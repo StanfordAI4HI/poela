{
 "cells": [
  {
   "cell_type": "code",
   "execution_count": 1,
   "metadata": {},
   "outputs": [],
   "source": [
    "import numpy as np\n",
    "import pandas as pd\n",
    "from tqdm.notebook import tqdm\n",
    "import pickle\n",
    "import matplotlib.pyplot as plt"
   ]
  },
  {
   "cell_type": "code",
   "execution_count": 2,
   "metadata": {},
   "outputs": [],
   "source": [
    "from sklearn.neighbors import NearestNeighbors"
   ]
  },
  {
   "cell_type": "code",
   "execution_count": 3,
   "metadata": {},
   "outputs": [],
   "source": [
    "from src.envs.cancer import CancerSim, PolicyCancer"
   ]
  },
  {
   "cell_type": "code",
   "execution_count": 4,
   "metadata": {},
   "outputs": [],
   "source": [
    "# with open(\"data/cancer_pcv_train_episodes\", 'rb') as f:\n",
    "#     train_dataset = pickle.load(f)\n",
    "# with open(\"data/cancer_pcv_val_episodes\", 'rb') as f:\n",
    "#     val_dataset = pickle.load(f)"
   ]
  },
  {
   "cell_type": "code",
   "execution_count": 4,
   "metadata": {},
   "outputs": [],
   "source": [
    "from src.offline_ql import discrete_PQL\n",
    "from src.offline_pg import ISPG"
   ]
  },
  {
   "cell_type": "code",
   "execution_count": 5,
   "metadata": {},
   "outputs": [],
   "source": [
    "def online_evaluate(env, policy, trees, sample_size=1000):\n",
    "    returns = []\n",
    "    action_dict = dict()\n",
    "    avg_treatment = []\n",
    "    change_in_mtd = []\n",
    "    for i in range(sample_size):\n",
    "        obs = env.reset()\n",
    "        done = False\n",
    "        rt = 0\n",
    "        t = 0\n",
    "        treatment = []\n",
    "        init_mtd = obs[1]\n",
    "        while not done:\n",
    "            nn_action_dist = get_nn_action_dist(obs, trees)\n",
    "            pibs = PolicyCancer().return_probs(obs, t)\n",
    "            a = policy.select_action(obs, pibs, nn_action_dist)\n",
    "            t += 1\n",
    "            obs, reward, done, _ = env.step(a)\n",
    "            rt += reward\n",
    "            treatment.append(a)\n",
    "        end_mtd = obs[1]\n",
    "        returns.append(rt)\n",
    "        avg_treatment.append(treatment)\n",
    "        change_in_mtd.append(100*(end_mtd-init_mtd)/init_mtd)\n",
    "    avg_treatment = np.array(avg_treatment).mean(axis=0)\n",
    "    avg_change_in_mtd = np.mean(change_in_mtd)\n",
    "    return np.mean(returns), np.std(returns), avg_treatment, avg_change_in_mtd\n",
    "\n",
    "\n",
    "def get_nn_action_dist(obs, trees):\n",
    "    nn_action_dist = np.zeros(len(trees))\n",
    "    for a in range(len(trees)):\n",
    "        nn_action_dist[a] = (trees[a].kneighbors(obs.reshape(1,-1))[0].item()**2)/obs.size\n",
    "    return nn_action_dist\n",
    "\n",
    "\n",
    "def construct_nearest_neighbor_trees(observations, actions, num_actions=2):\n",
    "    trees = dict()\n",
    "    for a in range(num_actions):\n",
    "        trees[a] = NearestNeighbors(n_neighbors=1)\n",
    "        is_action = (np.squeeze(actions,axis=-1) == a)\n",
    "        trees[a].fit(observations[is_action, :])\n",
    "    return trees\n",
    "\n",
    "def test_fix_policy(env, eps=0, n=1000):\n",
    "    policy = PolicyCancer(eps_behavior=eps)\n",
    "    rewards = []\n",
    "    for i in range(n):\n",
    "        obs = env.reset()\n",
    "        t = 0\n",
    "        reward = 0\n",
    "        done = False\n",
    "        while not done:\n",
    "            a = policy(obs, t)\n",
    "            obs, rt, done, _ = env.step(a)\n",
    "            t += 1\n",
    "            reward += rt\n",
    "        rewards.append(reward)\n",
    "    return np.mean(rewards), np.std(rewards)"
   ]
  },
  {
   "cell_type": "code",
   "execution_count": 6,
   "metadata": {},
   "outputs": [],
   "source": [
    "def wis_fix_policy(dataset):\n",
    "    policy = PolicyCancer(eps_behavior=0.01)\n",
    "\n",
    "    n = dataset[\"observations\"].shape[0]\n",
    "    horizon = dataset[\"observations\"].shape[1]\n",
    "    weights = np.ones((n, horizon))\n",
    "    \n",
    "    rewards = dataset[\"rewards\"][:,:,0]\n",
    "    \n",
    "    for idx in range(n):\n",
    "        last = 1\n",
    "        for t in range(horizon):\n",
    "            pie = policy.return_probs(dataset[\"observations\"][idx,t,:], t)\n",
    "            a = dataset[\"actions\"][idx,t,0]\n",
    "            \n",
    "            weights[idx, t] = last * (pie[a] / dataset[\"pibs\"][idx, t, a])\n",
    "            last = weights[idx, t]\n",
    "\n",
    "            if not dataset[\"not_done\"][idx, t, 0]:\n",
    "                weights[idx, t+1:] = weights[idx, t]\n",
    "                break\n",
    "    \n",
    "    weights = np.clip(weights, 0, 1e3)\n",
    "    weights_norm = weights.sum(axis=0)\n",
    "    weights /= weights_norm\n",
    "    estm = (weights[:,-1] * rewards.sum(axis=-1)).sum()\n",
    "    \n",
    "    return estm\n",
    "    "
   ]
  },
  {
   "cell_type": "code",
   "execution_count": 7,
   "metadata": {},
   "outputs": [],
   "source": [
    "def get_model_from_param(param):\n",
    "    \n",
    "    FEATURES_UB = [3.25401319, 51.84731224, 30.]\n",
    "    # FEATURES_UB = [3.18970173,  7.85591301, 44.83595683, 30.64735325, 30.]\n",
    "    \n",
    "    if param[\"name\"] == \"PG_mask\":\n",
    "        settings = f\"PG_{param['env']}_masknn_action_dist_weightedTrueam0.0\"\\\n",
    "                   f\"thresh{param['thresh']}var{param['var_coeff']}clip0.01seed{param['seed']}\"\n",
    "        model = ISPG(state_dim=3, num_actions=2, device=\"cpu\", hidden_dim=32,\n",
    "                     threshold=param['thresh'], action_mask_type=\"nn_action_dist\")\n",
    "        model.load(f\"models/{settings}_best_\")\n",
    "        val_score = np.load(f\"./results/{settings}_val_wis_scores.npy\")\n",
    "        train_score = np.load(f\"./results/{settings}_train_wis_scores.npy\")[:,0]\n",
    "        test_score = np.load(f\"./results/{settings}_true_scores.npy\") \n",
    "    \n",
    "    elif param[\"name\"] == \"PG_nomask\":\n",
    "        settings = f\"PG_{param['env']}_maskstep_weightedTrueam0.0\"\\\n",
    "                   f\"thresh{param['thresh']}var{param['var_coeff']}clip0.01seed{param['seed']}\"\n",
    "        model = ISPG(state_dim=3, num_actions=2, device=\"cpu\", hidden_dim=32,\n",
    "                     threshold=param['thresh'], action_mask_type=\"step\")\n",
    "        model.load(f\"models/{settings}_best_\")\n",
    "        val_score = np.load(f\"./results/{settings}_val_wis_scores.npy\")\n",
    "        train_score = np.load(f\"./results/{settings}_train_wis_scores.npy\")[:,0]\n",
    "        test_score = np.load(f\"./results/{settings}_true_scores.npy\") \n",
    "    \n",
    "    elif param[\"name\"] == \"PG_pib_mask\":\n",
    "        model = ISPG(state_dim=3, num_actions=2, device=\"cpu\", hidden_dim=32,\n",
    "                     threshold=param['thresh'], action_mask_type=\"step\")\n",
    "        val_score = None\n",
    "        train_score = None\n",
    "        test_score = None\n",
    "    \n",
    "    elif param[\"name\"] == \"BCQ\":\n",
    "        settings = f\"BCQ_{param['env']}_thresh{param['thresh']}_seed{param['seed']}\"\n",
    "        model = discrete_PQL(state_dim=3, num_actions=2, device=\"cpu\", state_clipping=False, hidden_dim=32,\n",
    "                             max_state=FEATURES_UB, action_threshold=param['thresh'], log_pibs=True)\n",
    "        model.load(f\"models/{settings}_best_\")\n",
    "        val_score = np.load(f\"./results/{settings}_val_scores.npy\")\n",
    "        train_score = np.load(f\"./results/{settings}_q_scores.npy\")\n",
    "        test_score = np.load(f\"./results/{settings}_true_scores.npy\") \n",
    "    \n",
    "    elif param[\"name\"] == \"PQL\":\n",
    "        settings = f\"PQL_{param['env']}_thresh{param['thresh']}_seed{param['seed']}\"\n",
    "        model = discrete_PQL(state_dim=3, num_actions=2, device=\"cpu\", state_clipping=True, hidden_dim=32,\n",
    "                             max_state=FEATURES_UB, action_threshold=param['thresh'], log_pibs=True)\n",
    "        model.load(f\"models/{settings}_best_\")\n",
    "        val_score = np.load(f\"./results/{settings}_val_scores.npy\")\n",
    "        train_score = np.load(f\"./results/{settings}_q_scores.npy\")\n",
    "        test_score = np.load(f\"./results/{settings}_true_scores.npy\") \n",
    "    \n",
    "    return model, val_score, train_score, test_score"
   ]
  },
  {
   "cell_type": "code",
   "execution_count": 58,
   "metadata": {},
   "outputs": [],
   "source": [
    "def get_model_from_param(param):\n",
    "    \n",
    "    #FEATURES_UB = [3.25401319, 51.84731224, 30.]\n",
    "    state_dim = 5\n",
    "    FEATURES_UB = [3.18970173,  7.85591301, 44.83595683, 30.64735325, 30.]\n",
    "    \n",
    "    if param[\"name\"] == \"PG_mask\":\n",
    "        settings = f\"PG_{param['env']}_masknn_action_dist_\"\\\n",
    "                   f\"thresh{param['thresh']}var{param['var_coeff']}seed{param['seed']}\"\n",
    "        model = ISPG(state_dim=state_dim, num_actions=2, device=\"cpu\", hidden_dim=32,\n",
    "                     threshold=param['thresh'], action_mask_type=\"nn_action_dist\")\n",
    "        model.load(f\"models/{settings}_best_\")\n",
    "        val_score = np.load(f\"./results/{settings}_val_wis_scores.npy\")\n",
    "        train_score = np.load(f\"./results/{settings}_train_wis_scores.npy\")[:,0]\n",
    "    \n",
    "    elif param[\"name\"] == \"PG_nomask\":\n",
    "        settings = f\"PG_{param['env']}_maskstep_\"\\\n",
    "                   f\"thresh{param['thresh']}var{param['var_coeff']}seed{param['seed']}\"\n",
    "        model = ISPG(state_dim=state_dim, num_actions=2, device=\"cpu\", hidden_dim=32,\n",
    "                     threshold=param['thresh'], action_mask_type=\"step\")\n",
    "        model.load(f\"models/{settings}_best_\")\n",
    "        val_score = np.load(f\"./results/{settings}_val_wis_scores.npy\")\n",
    "        train_score = np.load(f\"./results/{settings}_train_wis_scores.npy\")[:,0]\n",
    "    \n",
    "    elif param[\"name\"] == \"PG_pib_mask\":\n",
    "        model = ISPG(state_dim=state_dim, num_actions=2, device=\"cpu\", hidden_dim=32,\n",
    "                     threshold=param['thresh'], action_mask_type=\"step\")\n",
    "        val_score = None\n",
    "        train_score = None\n",
    "        test_score = None\n",
    "    \n",
    "    elif param[\"name\"] == \"BCQ\":\n",
    "        settings = f\"BCQ_{param['env']}_thresh{param['thresh']}_beta2.0_seed{param['seed']}\"\n",
    "        model = discrete_PQL(state_dim=state_dim, num_actions=2, device=\"cpu\", state_clipping=False, hidden_dim=32,\n",
    "                             max_state=FEATURES_UB, action_threshold=param['thresh'], log_pibs=True)\n",
    "        model.load(f\"models/{settings}_best_\")\n",
    "        val_score = np.load(f\"./results/{settings}_val_scores.npy\")\n",
    "        train_score = np.expand_dims(np.load(f\"./results/{settings}_q_scores.npy\"), axis=1)\n",
    "        #val_score = val_score[:5,:]\n",
    "        #val_score = np.hstack((train_score, val_score))\n",
    "    \n",
    "    elif param[\"name\"] == \"PQL\":\n",
    "        settings = f\"PQL_{param['env']}_thresh{param['thresh']}_beta{param['beta']}_seed{param['seed']}\"\n",
    "        model = discrete_PQL(state_dim=state_dim, num_actions=2, device=\"cpu\", state_clipping=True, hidden_dim=32,\n",
    "                             max_state=FEATURES_UB, action_threshold=param['thresh'], log_pibs=True)\n",
    "        model.load(f\"models/{settings}_best_\")\n",
    "        val_score = np.load(f\"./results/{settings}_val_scores.npy\")\n",
    "        train_score = np.expand_dims(np.load(f\"./results/{settings}_q_scores.npy\"),axis=1)\n",
    "        #val_score = val_score[:5,:]\n",
    "        #val_score = np.hstack((train_score, val_score))\n",
    "    \n",
    "    test_score = np.load(f\"./results/{settings}_true_scores.npy\")\n",
    "    return model, val_score, train_score, test_score"
   ]
  },
  {
   "cell_type": "code",
   "execution_count": 8,
   "metadata": {},
   "outputs": [],
   "source": [
    "def get_best_hp(env, alg, verbose=True):\n",
    "    #var_coeff = 0.0\n",
    "    var_coeff_list = [0.0, 0.1, 1.0]\n",
    "    seeds = [1,2,3,4,5]\n",
    "    if alg == \"PG_mask\":\n",
    "        threshold_list = [0.05, 0.1, 0.5]\n",
    "    elif alg == \"PG_nomask\":\n",
    "        threshold_list = [0.0]\n",
    "    elif alg == \"PG_pib_mask\":\n",
    "        with open(f\"data/{env_name}_train_episodes\", 'rb') as f:\n",
    "            train_dataset = pickle.load(f)\n",
    "        with open(f\"data/{env_name}_val_episodes\", 'rb') as f:\n",
    "            val_dataset = pickle.load(f)\n",
    "        return {\"name\": alg, \"env\": env, \"thresh\": 0.2, \"var_coeff\": 0, \"seed\": 0}, wis_fix_policy(val_dataset), wis_fix_policy(val_dataset)\n",
    "    elif alg == \"BCQ\":\n",
    "        var_coeff_list = [0.0]\n",
    "        threshold_list = [0.0, 0.25]\n",
    "    elif alg == \"PQL\":\n",
    "        var_coeff_list = [1.0, 2.0, 5.0]\n",
    "        threshold_list = [0.0, 0.25]\n",
    "    best_wis = -100\n",
    "    for var_coeff in var_coeff_list:\n",
    "        for threshold in threshold_list:\n",
    "            for seed in seeds:\n",
    "                if alg == \"PQL\":\n",
    "                    param = {\"name\": alg, \"env\": env, \"thresh\": threshold, \"beta\": var_coeff, \"seed\": seed}\n",
    "                else:\n",
    "                    param = {\"name\": alg, \"env\": env, \"thresh\": threshold, \"var_coeff\": var_coeff, \"seed\": seed}\n",
    "                model, score, train_score, _ = get_model_from_param(param)\n",
    "        \n",
    "                wis_pie = score[:,0].max()\n",
    "                ESS = score[np.argmax(score[:,0]),-1]\n",
    "                train = train_score[np.argmax(score[:,0])]\n",
    "            \n",
    "                if wis_pie > best_wis:\n",
    "                    best_wis = wis_pie\n",
    "                    best_train = train\n",
    "                    best_param = param\n",
    "                    if verbose:\n",
    "                        print(\"New wis:\", round(wis_pie, 2), \"ESS:\", round(ESS, 2), \"at:\", param)\n",
    "    return best_param, best_wis, best_train\n",
    "        "
   ]
  },
  {
   "cell_type": "code",
   "execution_count": 121,
   "metadata": {
    "scrolled": true
   },
   "outputs": [
    {
     "name": "stdout",
     "output_type": "stream",
     "text": [
      "New wis: 2.2 ESS: 2.01 at: {'name': 'PG_mask', 'env': 'cancer_mdp_pcv1', 'thresh': 0.05, 'var_coeff': 0.0, 'seed': 1}\n",
      "New wis: 2.34 ESS: 1.89 at: {'name': 'PG_mask', 'env': 'cancer_mdp_pcv1', 'thresh': 0.05, 'var_coeff': 0.0, 'seed': 3}\n",
      "New wis: 2.64 ESS: 1.34 at: {'name': 'PG_mask', 'env': 'cancer_mdp_pcv1', 'thresh': 0.05, 'var_coeff': 0.0, 'seed': 5}\n",
      "New wis: 2.96 ESS: 1.26 at: {'name': 'PG_mask', 'env': 'cancer_mdp_pcv1', 'thresh': 0.5, 'var_coeff': 0.0, 'seed': 5}\n",
      "Online Test: cancer_mdp_pcv1 PG_mask 0.13412338095166182\n",
      "New wis: 2.32 ESS: 2.31 at: {'name': 'PG_nomask', 'env': 'cancer_mdp_pcv1', 'thresh': 0.0, 'var_coeff': 0.0, 'seed': 1}\n",
      "New wis: 3.0 ESS: 1.18 at: {'name': 'PG_nomask', 'env': 'cancer_mdp_pcv1', 'thresh': 0.0, 'var_coeff': 0.0, 'seed': 5}\n",
      "New wis: 3.01 ESS: 1.16 at: {'name': 'PG_nomask', 'env': 'cancer_mdp_pcv1', 'thresh': 0.0, 'var_coeff': 0.1, 'seed': 5}\n",
      "New wis: 3.01 ESS: 1.15 at: {'name': 'PG_nomask', 'env': 'cancer_mdp_pcv1', 'thresh': 0.0, 'var_coeff': 1.0, 'seed': 5}\n",
      "Online Test: cancer_mdp_pcv1 PG_nomask -1.3713050410116912\n",
      "Online Test: cancer_mdp_pcv1 PG_pib_mask -4.350138017843129\n",
      "New wis: 3.06 ESS: 1.01 at: {'name': 'BCQ', 'env': 'cancer_mdp_pcv1', 'thresh': 0.0, 'var_coeff': 0.0, 'seed': 1}\n",
      "New wis: 3.07 ESS: 1.02 at: {'name': 'BCQ', 'env': 'cancer_mdp_pcv1', 'thresh': 0.0, 'var_coeff': 0.0, 'seed': 2}\n",
      "New wis: 3.08 ESS: 1.01 at: {'name': 'BCQ', 'env': 'cancer_mdp_pcv1', 'thresh': 0.0, 'var_coeff': 0.0, 'seed': 3}\n",
      "New wis: 3.08 ESS: 1.0 at: {'name': 'BCQ', 'env': 'cancer_mdp_pcv1', 'thresh': 0.0, 'var_coeff': 0.0, 'seed': 5}\n",
      "Online Test: cancer_mdp_pcv1 BCQ 2.9557533260653055\n",
      "New wis: 3.07 ESS: 1.01 at: {'name': 'PQL', 'env': 'cancer_mdp_pcv1', 'thresh': 0.0, 'beta': 1.0, 'seed': 1}\n",
      "New wis: 3.07 ESS: 1.02 at: {'name': 'PQL', 'env': 'cancer_mdp_pcv1', 'thresh': 0.0, 'beta': 1.0, 'seed': 2}\n",
      "New wis: 3.08 ESS: 1.01 at: {'name': 'PQL', 'env': 'cancer_mdp_pcv1', 'thresh': 0.0, 'beta': 1.0, 'seed': 3}\n",
      "New wis: 3.08 ESS: 1.0 at: {'name': 'PQL', 'env': 'cancer_mdp_pcv1', 'thresh': 0.0, 'beta': 1.0, 'seed': 4}\n",
      "Online Test: cancer_mdp_pcv1 PQL 3.086715443366803\n",
      "New wis: -1.43 ESS: 14.28 at: {'name': 'PG_mask', 'env': 'cancer_mdp_pcv2', 'thresh': 0.05, 'var_coeff': 0.0, 'seed': 1}\n",
      "New wis: -1.41 ESS: 4.6 at: {'name': 'PG_mask', 'env': 'cancer_mdp_pcv2', 'thresh': 0.1, 'var_coeff': 0.0, 'seed': 5}\n",
      "New wis: 0.6 ESS: 1.61 at: {'name': 'PG_mask', 'env': 'cancer_mdp_pcv2', 'thresh': 0.5, 'var_coeff': 0.0, 'seed': 1}\n",
      "New wis: 0.74 ESS: 2.11 at: {'name': 'PG_mask', 'env': 'cancer_mdp_pcv2', 'thresh': 0.5, 'var_coeff': 0.0, 'seed': 5}\n",
      "New wis: 0.74 ESS: 2.1 at: {'name': 'PG_mask', 'env': 'cancer_mdp_pcv2', 'thresh': 0.5, 'var_coeff': 0.1, 'seed': 5}\n",
      "New wis: 0.76 ESS: 2.06 at: {'name': 'PG_mask', 'env': 'cancer_mdp_pcv2', 'thresh': 0.5, 'var_coeff': 1.0, 'seed': 5}\n",
      "Online Test: cancer_mdp_pcv2 PG_mask 0.7032732874484754\n",
      "New wis: 0.6 ESS: 1.58 at: {'name': 'PG_nomask', 'env': 'cancer_mdp_pcv2', 'thresh': 0.0, 'var_coeff': 0.0, 'seed': 1}\n",
      "New wis: 0.76 ESS: 2.18 at: {'name': 'PG_nomask', 'env': 'cancer_mdp_pcv2', 'thresh': 0.0, 'var_coeff': 0.0, 'seed': 5}\n",
      "Online Test: cancer_mdp_pcv2 PG_nomask 0.10102065015408059\n",
      "Online Test: cancer_mdp_pcv2 PG_pib_mask -4.266489466438258\n",
      "New wis: 0.58 ESS: 1.0 at: {'name': 'BCQ', 'env': 'cancer_mdp_pcv2', 'thresh': 0.0, 'var_coeff': 0.0, 'seed': 1}\n",
      "New wis: 1.84 ESS: 1.0 at: {'name': 'BCQ', 'env': 'cancer_mdp_pcv2', 'thresh': 0.0, 'var_coeff': 0.0, 'seed': 2}\n",
      "Online Test: cancer_mdp_pcv2 BCQ -3.4313981416498747\n",
      "New wis: 2.35 ESS: 1.02 at: {'name': 'PQL', 'env': 'cancer_mdp_pcv2', 'thresh': 0.0, 'beta': 1.0, 'seed': 1}\n",
      "New wis: 2.35 ESS: 1.02 at: {'name': 'PQL', 'env': 'cancer_mdp_pcv2', 'thresh': 0.0, 'beta': 2.0, 'seed': 1}\n",
      "New wis: 2.35 ESS: 1.02 at: {'name': 'PQL', 'env': 'cancer_mdp_pcv2', 'thresh': 0.0, 'beta': 5.0, 'seed': 1}\n",
      "Online Test: cancer_mdp_pcv2 PQL 2.180178050469395\n",
      "New wis: 1.49 ESS: 2.45 at: {'name': 'PG_mask', 'env': 'cancer_mdp_pcv3', 'thresh': 0.05, 'var_coeff': 0.0, 'seed': 1}\n",
      "Online Test: cancer_mdp_pcv3 PG_mask 0.7938896659001362\n",
      "New wis: 0.28 ESS: 3.72 at: {'name': 'PG_nomask', 'env': 'cancer_mdp_pcv3', 'thresh': 0.0, 'var_coeff': 0.0, 'seed': 1}\n",
      "New wis: 0.96 ESS: 3.11 at: {'name': 'PG_nomask', 'env': 'cancer_mdp_pcv3', 'thresh': 0.0, 'var_coeff': 0.0, 'seed': 5}\n",
      "Online Test: cancer_mdp_pcv3 PG_nomask 1.4249453134457823\n",
      "Online Test: cancer_mdp_pcv3 PG_pib_mask -4.31964423499903\n",
      "New wis: 2.54 ESS: 1.12 at: {'name': 'BCQ', 'env': 'cancer_mdp_pcv3', 'thresh': 0.0, 'var_coeff': 0.0, 'seed': 1}\n",
      "New wis: 2.63 ESS: 1.11 at: {'name': 'BCQ', 'env': 'cancer_mdp_pcv3', 'thresh': 0.0, 'var_coeff': 0.0, 'seed': 3}\n",
      "Online Test: cancer_mdp_pcv3 BCQ 0.5418232041767683\n",
      "New wis: 2.5 ESS: 1.21 at: {'name': 'PQL', 'env': 'cancer_mdp_pcv3', 'thresh': 0.0, 'beta': 1.0, 'seed': 1}\n",
      "New wis: 2.5 ESS: 1.21 at: {'name': 'PQL', 'env': 'cancer_mdp_pcv3', 'thresh': 0.0, 'beta': 2.0, 'seed': 1}\n",
      "New wis: 2.58 ESS: 1.11 at: {'name': 'PQL', 'env': 'cancer_mdp_pcv3', 'thresh': 0.0, 'beta': 5.0, 'seed': 2}\n",
      "New wis: 2.65 ESS: 1.05 at: {'name': 'PQL', 'env': 'cancer_mdp_pcv3', 'thresh': 0.0, 'beta': 5.0, 'seed': 4}\n",
      "Online Test: cancer_mdp_pcv3 PQL 0.6921276486952802\n",
      "New wis: -1.08 ESS: 5.87 at: {'name': 'PG_mask', 'env': 'cancer_mdp_pcv4', 'thresh': 0.05, 'var_coeff': 0.0, 'seed': 1}\n",
      "New wis: -0.77 ESS: 3.04 at: {'name': 'PG_mask', 'env': 'cancer_mdp_pcv4', 'thresh': 0.05, 'var_coeff': 0.0, 'seed': 5}\n",
      "New wis: -0.12 ESS: 5.53 at: {'name': 'PG_mask', 'env': 'cancer_mdp_pcv4', 'thresh': 0.1, 'var_coeff': 0.0, 'seed': 1}\n",
      "Online Test: cancer_mdp_pcv4 PG_mask -1.09391321286853\n",
      "New wis: -0.48 ESS: 9.18 at: {'name': 'PG_nomask', 'env': 'cancer_mdp_pcv4', 'thresh': 0.0, 'var_coeff': 0.0, 'seed': 1}\n",
      "New wis: -0.35 ESS: 4.45 at: {'name': 'PG_nomask', 'env': 'cancer_mdp_pcv4', 'thresh': 0.0, 'var_coeff': 0.0, 'seed': 5}\n",
      "New wis: -0.35 ESS: 4.69 at: {'name': 'PG_nomask', 'env': 'cancer_mdp_pcv4', 'thresh': 0.0, 'var_coeff': 0.1, 'seed': 5}\n",
      "Online Test: cancer_mdp_pcv4 PG_nomask -8.706243049752139\n",
      "Online Test: cancer_mdp_pcv4 PG_pib_mask -4.4579588687932565\n",
      "New wis: 0.31 ESS: 2.19 at: {'name': 'BCQ', 'env': 'cancer_mdp_pcv4', 'thresh': 0.0, 'var_coeff': 0.0, 'seed': 1}\n",
      "New wis: 0.42 ESS: 1.39 at: {'name': 'BCQ', 'env': 'cancer_mdp_pcv4', 'thresh': 0.0, 'var_coeff': 0.0, 'seed': 2}\n",
      "New wis: 0.53 ESS: 1.05 at: {'name': 'BCQ', 'env': 'cancer_mdp_pcv4', 'thresh': 0.0, 'var_coeff': 0.0, 'seed': 3}\n",
      "Online Test: cancer_mdp_pcv4 BCQ 2.8078820136562213\n",
      "New wis: 0.19 ESS: 2.29 at: {'name': 'PQL', 'env': 'cancer_mdp_pcv4', 'thresh': 0.0, 'beta': 1.0, 'seed': 1}\n",
      "New wis: 0.41 ESS: 1.77 at: {'name': 'PQL', 'env': 'cancer_mdp_pcv4', 'thresh': 0.0, 'beta': 1.0, 'seed': 2}\n",
      "New wis: 0.42 ESS: 1.13 at: {'name': 'PQL', 'env': 'cancer_mdp_pcv4', 'thresh': 0.0, 'beta': 1.0, 'seed': 3}\n",
      "New wis: 0.61 ESS: 1.0 at: {'name': 'PQL', 'env': 'cancer_mdp_pcv4', 'thresh': 0.0, 'beta': 1.0, 'seed': 5}\n",
      "Online Test: cancer_mdp_pcv4 PQL 3.022404041939303\n",
      "New wis: -2.19 ESS: 6.86 at: {'name': 'PG_mask', 'env': 'cancer_mdp_pcv5', 'thresh': 0.05, 'var_coeff': 0.0, 'seed': 1}\n",
      "New wis: -1.62 ESS: 1.96 at: {'name': 'PG_mask', 'env': 'cancer_mdp_pcv5', 'thresh': 0.05, 'var_coeff': 0.0, 'seed': 4}\n",
      "New wis: 1.43 ESS: 1.12 at: {'name': 'PG_mask', 'env': 'cancer_mdp_pcv5', 'thresh': 0.1, 'var_coeff': 0.0, 'seed': 1}\n",
      "Online Test: cancer_mdp_pcv5 PG_mask 0.09312748917040181\n",
      "New wis: 0.8 ESS: 1.73 at: {'name': 'PG_nomask', 'env': 'cancer_mdp_pcv5', 'thresh': 0.0, 'var_coeff': 0.0, 'seed': 1}\n",
      "New wis: 1.01 ESS: 1.08 at: {'name': 'PG_nomask', 'env': 'cancer_mdp_pcv5', 'thresh': 0.0, 'var_coeff': 0.0, 'seed': 5}\n",
      "New wis: 1.01 ESS: 1.07 at: {'name': 'PG_nomask', 'env': 'cancer_mdp_pcv5', 'thresh': 0.0, 'var_coeff': 0.1, 'seed': 5}\n",
      "New wis: 1.05 ESS: 1.03 at: {'name': 'PG_nomask', 'env': 'cancer_mdp_pcv5', 'thresh': 0.0, 'var_coeff': 1.0, 'seed': 5}\n",
      "Online Test: cancer_mdp_pcv5 PG_nomask -3.2839752645226223\n",
      "Online Test: cancer_mdp_pcv5 PG_pib_mask -4.290517772778546\n",
      "New wis: 1.07 ESS: 1.98 at: {'name': 'BCQ', 'env': 'cancer_mdp_pcv5', 'thresh': 0.0, 'var_coeff': 0.0, 'seed': 1}\n",
      "New wis: 1.18 ESS: 1.43 at: {'name': 'BCQ', 'env': 'cancer_mdp_pcv5', 'thresh': 0.0, 'var_coeff': 0.0, 'seed': 3}\n",
      "New wis: 1.52 ESS: 1.01 at: {'name': 'BCQ', 'env': 'cancer_mdp_pcv5', 'thresh': 0.0, 'var_coeff': 0.0, 'seed': 5}\n"
     ]
    },
    {
     "name": "stdout",
     "output_type": "stream",
     "text": [
      "Online Test: cancer_mdp_pcv5 BCQ 2.4223678042389207\n",
      "New wis: 0.75 ESS: 1.08 at: {'name': 'PQL', 'env': 'cancer_mdp_pcv5', 'thresh': 0.0, 'beta': 1.0, 'seed': 1}\n",
      "New wis: 1.52 ESS: 1.01 at: {'name': 'PQL', 'env': 'cancer_mdp_pcv5', 'thresh': 0.0, 'beta': 1.0, 'seed': 2}\n",
      "New wis: 1.52 ESS: 1.01 at: {'name': 'PQL', 'env': 'cancer_mdp_pcv5', 'thresh': 0.0, 'beta': 2.0, 'seed': 2}\n",
      "Online Test: cancer_mdp_pcv5 PQL 2.9694913512342267\n"
     ]
    }
   ],
   "source": [
    "env_list = [\"cancer_mdp_pcv1\", \"cancer_mdp_pcv2\", \"cancer_mdp_pcv3\", \"cancer_mdp_pcv4\", \"cancer_mdp_pcv5\"]\n",
    "env = CancerSim(dose_penalty=1.0, therapy_type=\"PCV\", env_seed=None, max_steps=30, state_dim=5)\n",
    "\n",
    "#env_list = [\"cancer_pcv1\", \"cancer_pcv2\", \"cancer_pcv3\", \"cancer_pcv4\", \"cancer_pcv5\"]\n",
    "#env = CancerSim(dose_penalty=1.0, therapy_type=\"PCV\", env_seed=None, max_steps=30, state_dim=3)\n",
    "\n",
    "algo_list = [\"PG_mask\", \"PG_nomask\", \"PG_pib_mask\", \"BCQ\", \"PQL\"]\n",
    "\n",
    "test_results = np.zeros((len(algo_list), len(env_list)))\n",
    "train_results = np.zeros((len(algo_list), len(env_list)))\n",
    "valid_results = np.zeros((len(algo_list), len(env_list)))\n",
    "treatment_logs = np.zeros((len(algo_list), len(env_list), 30))\n",
    "mtd_changes = np.zeros((len(algo_list), len(env_list)))\n",
    "\n",
    "\n",
    "\n",
    "for j,env_name in enumerate(env_list):\n",
    "    with open(f\"data/{env_name}_train_episodes\", 'rb') as f:\n",
    "        train_dataset = pickle.load(f)\n",
    "    trees = construct_nearest_neighbor_trees(train_dataset[\"observations\"],train_dataset[\"actions\"])\n",
    "    for i,algo in enumerate(algo_list):\n",
    "        param, val, train = get_best_hp(env_name, algo)\n",
    "        model, _, _, _ = get_model_from_param(param)\n",
    "        test, _, treatment_log, mtd_change = online_evaluate(env, model, trees, sample_size=100)\n",
    "        print(\"Online Test:\", env_name, algo, test)\n",
    "        \n",
    "        test_results[i,j] = test\n",
    "        train_results[i,j] = train\n",
    "        valid_results[i,j] = val\n",
    "        treatment_logs[i,j,:] = treatment_log\n",
    "        mtd_changes[i,j] = mtd_change"
   ]
  },
  {
   "cell_type": "code",
   "execution_count": null,
   "metadata": {},
   "outputs": [],
   "source": []
  },
  {
   "cell_type": "code",
   "execution_count": null,
   "metadata": {},
   "outputs": [],
   "source": []
  },
  {
   "cell_type": "code",
   "execution_count": 112,
   "metadata": {},
   "outputs": [],
   "source": [
    "v_max = 2.5\n",
    "v_min = -20.0"
   ]
  },
  {
   "cell_type": "code",
   "execution_count": 113,
   "metadata": {},
   "outputs": [],
   "source": [
    "final_test_results = 100*(test_results-v_min)/(v_max-v_min)\n",
    "final_valid_results = 100*(valid_results-v_min)/(v_max-v_min)\n",
    "final_train_results = 100*(train_results-v_min)/(v_max-v_min)"
   ]
  },
  {
   "cell_type": "code",
   "execution_count": 114,
   "metadata": {},
   "outputs": [],
   "source": [
    "np.set_printoptions(precision=2, linewidth=100)"
   ]
  },
  {
   "cell_type": "code",
   "execution_count": 115,
   "metadata": {},
   "outputs": [
    {
     "data": {
      "text/plain": [
       "array([89.52, 78.79, 69.46, 95.64, 96.88])"
      ]
     },
     "execution_count": 115,
     "metadata": {},
     "output_type": "execute_result"
    }
   ],
   "source": [
    "final_test_results[:,:].mean(axis=-1)"
   ]
  },
  {
   "cell_type": "code",
   "execution_count": 116,
   "metadata": {},
   "outputs": [
    {
     "data": {
      "text/plain": [
       "array([1.55, 6.42, 0.26, 4.64, 3.76])"
      ]
     },
     "execution_count": 116,
     "metadata": {},
     "output_type": "execute_result"
    }
   ],
   "source": [
    "final_test_results.std(axis=-1)/np.sqrt(5)"
   ]
  },
  {
   "cell_type": "code",
   "execution_count": 117,
   "metadata": {},
   "outputs": [
    {
     "data": {
      "text/plain": [
       "array([ 5.16, 14.93, -0.69,  0.55, -0.26])"
      ]
     },
     "execution_count": 117,
     "metadata": {},
     "output_type": "execute_result"
    }
   ],
   "source": [
    "final_valid_results.mean(axis=-1) - final_test_results.mean(axis=-1)"
   ]
  },
  {
   "cell_type": "code",
   "execution_count": 118,
   "metadata": {},
   "outputs": [
    {
     "data": {
      "text/plain": [
       "array([1.78, 5.71, 0.81, 5.12, 4.18])"
      ]
     },
     "execution_count": 118,
     "metadata": {},
     "output_type": "execute_result"
    }
   ],
   "source": [
    "(final_valid_results - final_test_results).std(axis=-1)/np.sqrt(5)"
   ]
  },
  {
   "cell_type": "code",
   "execution_count": 18,
   "metadata": {},
   "outputs": [
    {
     "data": {
      "text/plain": [
       "array([7.61, 3.23, 9.  , 0.4 ])"
      ]
     },
     "execution_count": 18,
     "metadata": {},
     "output_type": "execute_result"
    }
   ],
   "source": [
    "treatment_logs[:,:,:].sum(axis=-1).mean(axis=1)"
   ]
  },
  {
   "cell_type": "code",
   "execution_count": 19,
   "metadata": {},
   "outputs": [
    {
     "data": {
      "text/plain": [
       "array([1.69, 0.49, 0.  , 0.36])"
      ]
     },
     "execution_count": 19,
     "metadata": {},
     "output_type": "execute_result"
    }
   ],
   "source": [
    "treatment_logs[:,:,:].sum(axis=-1).std(axis=1)/np.sqrt(5)"
   ]
  },
  {
   "cell_type": "code",
   "execution_count": 15,
   "metadata": {},
   "outputs": [
    {
     "data": {
      "text/plain": [
       "array([-53.43,   6.44, -64.46,  89.81])"
      ]
     },
     "execution_count": 15,
     "metadata": {},
     "output_type": "execute_result"
    }
   ],
   "source": [
    "mtd_changes.mean(axis=-1)"
   ]
  },
  {
   "cell_type": "code",
   "execution_count": 16,
   "metadata": {},
   "outputs": [
    {
     "data": {
      "text/plain": [
       "array([ 9.95, 12.99,  0.11, 10.72])"
      ]
     },
     "execution_count": 16,
     "metadata": {},
     "output_type": "execute_result"
    }
   ],
   "source": [
    "mtd_changes.std(axis=-1)/np.sqrt(5)"
   ]
  },
  {
   "cell_type": "code",
   "execution_count": 92,
   "metadata": {},
   "outputs": [
    {
     "data": {
      "image/png": "[encoded data removed]",
      "text/plain": [
       "<Figure size 432x288 with 1 Axes>"
      ]
     },
     "metadata": {},
     "output_type": "display_data"
    }
   ],
   "source": [
    "plt.plot(treatment_logs[:,:,:].mean(axis=1).transpose())\n",
    "plt.legend(algo_list)\n",
    "#plt.yscale(\"log\")\n",
    "plt.show()"
   ]
  },
  {
   "cell_type": "code",
   "execution_count": null,
   "metadata": {},
   "outputs": [],
   "source": []
  },
  {
   "cell_type": "code",
   "execution_count": 37,
   "metadata": {},
   "outputs": [],
   "source": [
    "def compute_is_weights(dataset, q_policy):\n",
    "    n = dataset[\"observations\"].shape[0]\n",
    "    horizon = dataset[\"observations\"].shape[1]\n",
    "    \n",
    "    rewards = dataset[\"rewards\"][:,:,0]\n",
    "    \n",
    "    pies = np.zeros((n, horizon))\n",
    "    pibs = np.zeros((n, horizon))\n",
    "    length = horizon*np.ones((n))\n",
    "    \n",
    "    for idx in range(n):\n",
    "        for t in range(horizon):\n",
    "            pie = q_policy.get_prob(dataset[\"observations\"][idx,t,:], dataset[\"pibs\"][idx,t,:], \n",
    "                                    dataset[\"nn_action_dist\"][idx,t,:])\n",
    "            a = dataset[\"actions\"][idx,t,0]\n",
    "            \n",
    "            pies[idx,t] = pie[a]\n",
    "            pibs[idx,t] = dataset[\"pibs\"][idx,t,a]\n",
    "    return pibs, pies, rewards, length.astype(int)"
   ]
  },
  {
   "cell_type": "code",
   "execution_count": 47,
   "metadata": {},
   "outputs": [],
   "source": [
    "def wis_weights_on_neg_rewards(pibs, pies, rewards, length, weighted=True):\n",
    "    n = pibs.shape[0]\n",
    "    weights = np.ones((n,30))\n",
    "    \n",
    "    for i in range(n):\n",
    "        last = 1\n",
    "        for t in range(int(length[i])):\n",
    "            weights[i,t] = last*(pies[i,t]/pibs[i,t])    \n",
    "            last = weights[i,t]\n",
    "        weights[i,length[i]:] = weights[i,length[i]-1]\n",
    "    weights = np.clip(weights, 0, 1e3)\n",
    "    if weighted:\n",
    "        weights_norm = weights.sum(axis=0)\n",
    "    else:\n",
    "        weights_norm = weights.shape[0]\n",
    "    weights /= weights_norm\n",
    "    reward_filter = (rewards.sum(axis=-1) < -2).astype(float)\n",
    "    \n",
    "    return (weights[:,-1] * reward_filter).sum(axis=0), reward_filter, weights[:,-1]"
   ]
  },
  {
   "cell_type": "code",
   "execution_count": 14,
   "metadata": {},
   "outputs": [],
   "source": [
    "with open(f\"data/cancer_pcv1_val_episodes\", 'rb') as f:\n",
    "        train_dataset = pickle.load(f)"
   ]
  },
  {
   "cell_type": "code",
   "execution_count": 15,
   "metadata": {},
   "outputs": [
    {
     "data": {
      "text/plain": [
       "dict_keys(['observations', 'actions', 'rewards', 'sparse_rewards', 'dense_rewards', 'not_done', 'pibs', 'nn_action_dist'])"
      ]
     },
     "execution_count": 15,
     "metadata": {},
     "output_type": "execute_result"
    }
   ],
   "source": [
    "train_dataset.keys()"
   ]
  },
  {
   "cell_type": "code",
   "execution_count": 45,
   "metadata": {},
   "outputs": [],
   "source": [
    "#plt.hist(train_dataset['rewards'][:,:,0].sum(axis=-1))\n",
    "reward_filter = (train_dataset['rewards'][:,:,0].sum(axis=-1) < -2).astype(float)"
   ]
  },
  {
   "cell_type": "code",
   "execution_count": 46,
   "metadata": {},
   "outputs": [
    {
     "data": {
      "text/plain": [
       "0.95"
      ]
     },
     "execution_count": 46,
     "metadata": {},
     "output_type": "execute_result"
    }
   ],
   "source": [
    "reward_filter.mean()"
   ]
  },
  {
   "cell_type": "code",
   "execution_count": 59,
   "metadata": {},
   "outputs": [
    {
     "name": "stdout",
     "output_type": "stream",
     "text": [
      "New wis: 2.2 ESS: 2.01 at: {'name': 'PG_mask', 'env': 'cancer_mdp_pcv1', 'thresh': 0.05, 'var_coeff': 0.0, 'seed': 1}\n",
      "New wis: 2.34 ESS: 1.89 at: {'name': 'PG_mask', 'env': 'cancer_mdp_pcv1', 'thresh': 0.05, 'var_coeff': 0.0, 'seed': 3}\n",
      "New wis: 2.64 ESS: 1.34 at: {'name': 'PG_mask', 'env': 'cancer_mdp_pcv1', 'thresh': 0.05, 'var_coeff': 0.0, 'seed': 5}\n",
      "New wis: 2.96 ESS: 1.26 at: {'name': 'PG_mask', 'env': 'cancer_mdp_pcv1', 'thresh': 0.5, 'var_coeff': 0.0, 'seed': 5}\n",
      "Neg-reward weights: cancer_mdp_pcv1 PG_mask 1.4842282765434383e-06 , neg rewards: 0.937\n",
      "New wis: 2.32 ESS: 2.31 at: {'name': 'PG_nomask', 'env': 'cancer_mdp_pcv1', 'thresh': 0.0, 'var_coeff': 0.0, 'seed': 1}\n",
      "New wis: 3.0 ESS: 1.18 at: {'name': 'PG_nomask', 'env': 'cancer_mdp_pcv1', 'thresh': 0.0, 'var_coeff': 0.0, 'seed': 5}\n",
      "New wis: 3.01 ESS: 1.16 at: {'name': 'PG_nomask', 'env': 'cancer_mdp_pcv1', 'thresh': 0.0, 'var_coeff': 0.1, 'seed': 5}\n",
      "New wis: 3.01 ESS: 1.15 at: {'name': 'PG_nomask', 'env': 'cancer_mdp_pcv1', 'thresh': 0.0, 'var_coeff': 1.0, 'seed': 5}\n",
      "Neg-reward weights: cancer_mdp_pcv1 PG_nomask 8.30169215909906e-07 , neg rewards: 0.937\n",
      "New wis: 3.06 ESS: 1.01 at: {'name': 'BCQ', 'env': 'cancer_mdp_pcv1', 'thresh': 0.0, 'var_coeff': 0.0, 'seed': 1}\n",
      "New wis: 3.07 ESS: 1.02 at: {'name': 'BCQ', 'env': 'cancer_mdp_pcv1', 'thresh': 0.0, 'var_coeff': 0.0, 'seed': 2}\n",
      "New wis: 3.08 ESS: 1.01 at: {'name': 'BCQ', 'env': 'cancer_mdp_pcv1', 'thresh': 0.0, 'var_coeff': 0.0, 'seed': 3}\n",
      "New wis: 3.08 ESS: 1.0 at: {'name': 'BCQ', 'env': 'cancer_mdp_pcv1', 'thresh': 0.0, 'var_coeff': 0.0, 'seed': 5}\n",
      "Neg-reward weights: cancer_mdp_pcv1 BCQ 0.001521102217871536 , neg rewards: 0.937\n",
      "New wis: 3.07 ESS: 1.01 at: {'name': 'PQL', 'env': 'cancer_mdp_pcv1', 'thresh': 0.0, 'beta': 1.0, 'seed': 1}\n",
      "New wis: 3.07 ESS: 1.02 at: {'name': 'PQL', 'env': 'cancer_mdp_pcv1', 'thresh': 0.0, 'beta': 1.0, 'seed': 2}\n",
      "New wis: 3.08 ESS: 1.01 at: {'name': 'PQL', 'env': 'cancer_mdp_pcv1', 'thresh': 0.0, 'beta': 1.0, 'seed': 3}\n",
      "New wis: 3.08 ESS: 1.0 at: {'name': 'PQL', 'env': 'cancer_mdp_pcv1', 'thresh': 0.0, 'beta': 1.0, 'seed': 4}\n",
      "Neg-reward weights: cancer_mdp_pcv1 PQL 0.00010479063097027527 , neg rewards: 0.937\n",
      "New wis: -1.43 ESS: 14.28 at: {'name': 'PG_mask', 'env': 'cancer_mdp_pcv2', 'thresh': 0.05, 'var_coeff': 0.0, 'seed': 1}\n",
      "New wis: -1.41 ESS: 4.6 at: {'name': 'PG_mask', 'env': 'cancer_mdp_pcv2', 'thresh': 0.1, 'var_coeff': 0.0, 'seed': 5}\n",
      "New wis: 0.6 ESS: 1.61 at: {'name': 'PG_mask', 'env': 'cancer_mdp_pcv2', 'thresh': 0.5, 'var_coeff': 0.0, 'seed': 1}\n",
      "New wis: 0.74 ESS: 2.11 at: {'name': 'PG_mask', 'env': 'cancer_mdp_pcv2', 'thresh': 0.5, 'var_coeff': 0.0, 'seed': 5}\n",
      "New wis: 0.74 ESS: 2.1 at: {'name': 'PG_mask', 'env': 'cancer_mdp_pcv2', 'thresh': 0.5, 'var_coeff': 0.1, 'seed': 5}\n",
      "New wis: 0.76 ESS: 2.06 at: {'name': 'PG_mask', 'env': 'cancer_mdp_pcv2', 'thresh': 0.5, 'var_coeff': 1.0, 'seed': 5}\n",
      "Neg-reward weights: cancer_mdp_pcv2 PG_mask 0.010296521770968282 , neg rewards: 0.933\n",
      "New wis: 0.6 ESS: 1.58 at: {'name': 'PG_nomask', 'env': 'cancer_mdp_pcv2', 'thresh': 0.0, 'var_coeff': 0.0, 'seed': 1}\n",
      "New wis: 0.76 ESS: 2.18 at: {'name': 'PG_nomask', 'env': 'cancer_mdp_pcv2', 'thresh': 0.0, 'var_coeff': 0.0, 'seed': 5}\n",
      "Neg-reward weights: cancer_mdp_pcv2 PG_nomask 0.00023147101471134913 , neg rewards: 0.933\n",
      "New wis: 0.58 ESS: 1.0 at: {'name': 'BCQ', 'env': 'cancer_mdp_pcv2', 'thresh': 0.0, 'var_coeff': 0.0, 'seed': 1}\n",
      "New wis: 1.84 ESS: 1.0 at: {'name': 'BCQ', 'env': 'cancer_mdp_pcv2', 'thresh': 0.0, 'var_coeff': 0.0, 'seed': 2}\n",
      "Neg-reward weights: cancer_mdp_pcv2 BCQ 0.03792114100728035 , neg rewards: 0.933\n",
      "New wis: 2.35 ESS: 1.02 at: {'name': 'PQL', 'env': 'cancer_mdp_pcv2', 'thresh': 0.0, 'beta': 1.0, 'seed': 1}\n",
      "New wis: 2.35 ESS: 1.02 at: {'name': 'PQL', 'env': 'cancer_mdp_pcv2', 'thresh': 0.0, 'beta': 2.0, 'seed': 1}\n",
      "New wis: 2.35 ESS: 1.02 at: {'name': 'PQL', 'env': 'cancer_mdp_pcv2', 'thresh': 0.0, 'beta': 5.0, 'seed': 1}\n",
      "Neg-reward weights: cancer_mdp_pcv2 PQL 0.002785796807156326 , neg rewards: 0.933\n",
      "New wis: 1.49 ESS: 2.45 at: {'name': 'PG_mask', 'env': 'cancer_mdp_pcv3', 'thresh': 0.05, 'var_coeff': 0.0, 'seed': 1}\n",
      "Neg-reward weights: cancer_mdp_pcv3 PG_mask 0.14952891836259927 , neg rewards: 0.942\n",
      "New wis: 0.28 ESS: 3.72 at: {'name': 'PG_nomask', 'env': 'cancer_mdp_pcv3', 'thresh': 0.0, 'var_coeff': 0.0, 'seed': 1}\n",
      "New wis: 0.96 ESS: 3.11 at: {'name': 'PG_nomask', 'env': 'cancer_mdp_pcv3', 'thresh': 0.0, 'var_coeff': 0.0, 'seed': 5}\n",
      "Neg-reward weights: cancer_mdp_pcv3 PG_nomask 0.00018154453464282866 , neg rewards: 0.942\n",
      "New wis: 2.54 ESS: 1.12 at: {'name': 'BCQ', 'env': 'cancer_mdp_pcv3', 'thresh': 0.0, 'var_coeff': 0.0, 'seed': 1}\n",
      "New wis: 2.63 ESS: 1.11 at: {'name': 'BCQ', 'env': 'cancer_mdp_pcv3', 'thresh': 0.0, 'var_coeff': 0.0, 'seed': 3}\n",
      "Neg-reward weights: cancer_mdp_pcv3 BCQ 0.14554392176219882 , neg rewards: 0.942\n",
      "New wis: 2.5 ESS: 1.21 at: {'name': 'PQL', 'env': 'cancer_mdp_pcv3', 'thresh': 0.0, 'beta': 1.0, 'seed': 1}\n",
      "New wis: 2.5 ESS: 1.21 at: {'name': 'PQL', 'env': 'cancer_mdp_pcv3', 'thresh': 0.0, 'beta': 2.0, 'seed': 1}\n",
      "New wis: 2.58 ESS: 1.11 at: {'name': 'PQL', 'env': 'cancer_mdp_pcv3', 'thresh': 0.0, 'beta': 5.0, 'seed': 2}\n",
      "New wis: 2.65 ESS: 1.05 at: {'name': 'PQL', 'env': 'cancer_mdp_pcv3', 'thresh': 0.0, 'beta': 5.0, 'seed': 4}\n",
      "Neg-reward weights: cancer_mdp_pcv3 PQL 0.14474630437637603 , neg rewards: 0.942\n",
      "New wis: -1.08 ESS: 5.87 at: {'name': 'PG_mask', 'env': 'cancer_mdp_pcv4', 'thresh': 0.05, 'var_coeff': 0.0, 'seed': 1}\n",
      "New wis: -0.77 ESS: 3.04 at: {'name': 'PG_mask', 'env': 'cancer_mdp_pcv4', 'thresh': 0.05, 'var_coeff': 0.0, 'seed': 5}\n",
      "New wis: -0.12 ESS: 5.53 at: {'name': 'PG_mask', 'env': 'cancer_mdp_pcv4', 'thresh': 0.1, 'var_coeff': 0.0, 'seed': 1}\n",
      "Neg-reward weights: cancer_mdp_pcv4 PG_mask 0.3286410939730349 , neg rewards: 0.95\n",
      "New wis: -0.48 ESS: 9.18 at: {'name': 'PG_nomask', 'env': 'cancer_mdp_pcv4', 'thresh': 0.0, 'var_coeff': 0.0, 'seed': 1}\n",
      "New wis: -0.35 ESS: 4.45 at: {'name': 'PG_nomask', 'env': 'cancer_mdp_pcv4', 'thresh': 0.0, 'var_coeff': 0.0, 'seed': 5}\n",
      "New wis: -0.35 ESS: 4.69 at: {'name': 'PG_nomask', 'env': 'cancer_mdp_pcv4', 'thresh': 0.0, 'var_coeff': 0.1, 'seed': 5}\n",
      "Neg-reward weights: cancer_mdp_pcv4 PG_nomask 2.3730088847458087e-06 , neg rewards: 0.95\n",
      "New wis: 0.31 ESS: 2.19 at: {'name': 'BCQ', 'env': 'cancer_mdp_pcv4', 'thresh': 0.0, 'var_coeff': 0.0, 'seed': 1}\n",
      "New wis: 0.42 ESS: 1.39 at: {'name': 'BCQ', 'env': 'cancer_mdp_pcv4', 'thresh': 0.0, 'var_coeff': 0.0, 'seed': 2}\n",
      "New wis: 0.53 ESS: 1.05 at: {'name': 'BCQ', 'env': 'cancer_mdp_pcv4', 'thresh': 0.0, 'var_coeff': 0.0, 'seed': 3}\n",
      "Neg-reward weights: cancer_mdp_pcv4 BCQ 0.22893813553787357 , neg rewards: 0.95\n",
      "New wis: 0.19 ESS: 2.29 at: {'name': 'PQL', 'env': 'cancer_mdp_pcv4', 'thresh': 0.0, 'beta': 1.0, 'seed': 1}\n",
      "New wis: 0.41 ESS: 1.77 at: {'name': 'PQL', 'env': 'cancer_mdp_pcv4', 'thresh': 0.0, 'beta': 1.0, 'seed': 2}\n",
      "New wis: 0.42 ESS: 1.13 at: {'name': 'PQL', 'env': 'cancer_mdp_pcv4', 'thresh': 0.0, 'beta': 1.0, 'seed': 3}\n",
      "New wis: 0.61 ESS: 1.0 at: {'name': 'PQL', 'env': 'cancer_mdp_pcv4', 'thresh': 0.0, 'beta': 1.0, 'seed': 5}\n",
      "Neg-reward weights: cancer_mdp_pcv4 PQL 0.47309105431507 , neg rewards: 0.95\n",
      "New wis: -2.19 ESS: 6.86 at: {'name': 'PG_mask', 'env': 'cancer_mdp_pcv5', 'thresh': 0.05, 'var_coeff': 0.0, 'seed': 1}\n",
      "New wis: -1.62 ESS: 1.96 at: {'name': 'PG_mask', 'env': 'cancer_mdp_pcv5', 'thresh': 0.05, 'var_coeff': 0.0, 'seed': 4}\n",
      "New wis: 1.43 ESS: 1.12 at: {'name': 'PG_mask', 'env': 'cancer_mdp_pcv5', 'thresh': 0.1, 'var_coeff': 0.0, 'seed': 1}\n",
      "Neg-reward weights: cancer_mdp_pcv5 PG_mask 0.001318504355944473 , neg rewards: 0.933\n",
      "New wis: 0.8 ESS: 1.73 at: {'name': 'PG_nomask', 'env': 'cancer_mdp_pcv5', 'thresh': 0.0, 'var_coeff': 0.0, 'seed': 1}\n",
      "New wis: 1.01 ESS: 1.08 at: {'name': 'PG_nomask', 'env': 'cancer_mdp_pcv5', 'thresh': 0.0, 'var_coeff': 0.0, 'seed': 5}\n",
      "New wis: 1.01 ESS: 1.07 at: {'name': 'PG_nomask', 'env': 'cancer_mdp_pcv5', 'thresh': 0.0, 'var_coeff': 0.1, 'seed': 5}\n",
      "New wis: 1.05 ESS: 1.03 at: {'name': 'PG_nomask', 'env': 'cancer_mdp_pcv5', 'thresh': 0.0, 'var_coeff': 1.0, 'seed': 5}\n",
      "Neg-reward weights: cancer_mdp_pcv5 PG_nomask 0.0016739346785781366 , neg rewards: 0.933\n",
      "New wis: 1.07 ESS: 1.98 at: {'name': 'BCQ', 'env': 'cancer_mdp_pcv5', 'thresh': 0.0, 'var_coeff': 0.0, 'seed': 1}\n",
      "New wis: 1.18 ESS: 1.43 at: {'name': 'BCQ', 'env': 'cancer_mdp_pcv5', 'thresh': 0.0, 'var_coeff': 0.0, 'seed': 3}\n",
      "New wis: 1.52 ESS: 1.01 at: {'name': 'BCQ', 'env': 'cancer_mdp_pcv5', 'thresh': 0.0, 'var_coeff': 0.0, 'seed': 5}\n"
     ]
    },
    {
     "name": "stdout",
     "output_type": "stream",
     "text": [
      "Neg-reward weights: cancer_mdp_pcv5 BCQ 0.005687385065999652 , neg rewards: 0.933\n",
      "New wis: 0.75 ESS: 1.08 at: {'name': 'PQL', 'env': 'cancer_mdp_pcv5', 'thresh': 0.0, 'beta': 1.0, 'seed': 1}\n",
      "New wis: 1.52 ESS: 1.01 at: {'name': 'PQL', 'env': 'cancer_mdp_pcv5', 'thresh': 0.0, 'beta': 1.0, 'seed': 2}\n",
      "New wis: 1.52 ESS: 1.01 at: {'name': 'PQL', 'env': 'cancer_mdp_pcv5', 'thresh': 0.0, 'beta': 2.0, 'seed': 2}\n",
      "Neg-reward weights: cancer_mdp_pcv5 PQL 0.0004560516525234003 , neg rewards: 0.933\n"
     ]
    }
   ],
   "source": [
    "env_list = [\"cancer_mdp_pcv1\", \"cancer_mdp_pcv2\", \"cancer_mdp_pcv3\", \"cancer_mdp_pcv4\", \"cancer_mdp_pcv5\"]\n",
    "env = CancerSim(dose_penalty=1.0, therapy_type=\"PCV\", env_seed=None, max_steps=30, state_dim=5)\n",
    "\n",
    "#env_list = [\"cancer_pcv1\", \"cancer_pcv2\", \"cancer_pcv3\", \"cancer_pcv4\", \"cancer_pcv5\"]\n",
    "#env = CancerSim(dose_penalty=1.0, therapy_type=\"PCV\", env_seed=None, max_steps=30, state_dim=3)\n",
    "\n",
    "algo_list = [\"PG_mask\", \"PG_nomask\", \"BCQ\", \"PQL\"]\n",
    "\n",
    "weights_results = np.zeros((len(algo_list), len(env_list)))\n",
    "\n",
    "for j,env_name in enumerate(env_list):\n",
    "    with open(f\"data/{env_name}_train_episodes\", 'rb') as f:\n",
    "        train_dataset = pickle.load(f)\n",
    "    with open(f\"data/{env_name}_val_episodes\", 'rb') as f:\n",
    "        val_dataset = pickle.load(f)\n",
    "    trees = construct_nearest_neighbor_trees(train_dataset[\"observations\"],train_dataset[\"actions\"])\n",
    "    for i,algo in enumerate(algo_list):\n",
    "        param, val, train = get_best_hp(env_name, algo)\n",
    "        model, _, _, _ = get_model_from_param(param)\n",
    "        pibs, pies, rewards, length = compute_is_weights(train_dataset, model)\n",
    "        weights_sum, reward_filter, weights = wis_weights_on_neg_rewards(pibs, pies, rewards, length)\n",
    "        print(\"Neg-reward weights:\", env_name, algo, weights_sum, \", neg rewards:\", reward_filter.mean())\n",
    "        weights_results[i,j] = weights_sum"
   ]
  },
  {
   "cell_type": "code",
   "execution_count": 51,
   "metadata": {},
   "outputs": [],
   "source": [
    "val_weights = weights_results.mean(axis=-1)"
   ]
  },
  {
   "cell_type": "code",
   "execution_count": 56,
   "metadata": {},
   "outputs": [
    {
     "data": {
      "text/plain": [
       "array([0.01990315, 0.0371038 , 0.00487675, 0.0151123 ])"
      ]
     },
     "execution_count": 56,
     "metadata": {},
     "output_type": "execute_result"
    }
   ],
   "source": [
    "val_weights"
   ]
  },
  {
   "cell_type": "code",
   "execution_count": 61,
   "metadata": {},
   "outputs": [],
   "source": [
    "# Non MDP"
   ]
  },
  {
   "cell_type": "code",
   "execution_count": 55,
   "metadata": {},
   "outputs": [
    {
     "data": {
      "text/plain": [
       "array([0.05499454, 0.0056951 , 0.0003608 , 0.00514889])"
      ]
     },
     "execution_count": 55,
     "metadata": {},
     "output_type": "execute_result"
    }
   ],
   "source": [
    "train_weights = weights_results.mean(axis=-1)\n",
    "train_weights"
   ]
  },
  {
   "cell_type": "code",
   "execution_count": 62,
   "metadata": {},
   "outputs": [],
   "source": [
    "# MDP"
   ]
  },
  {
   "cell_type": "code",
   "execution_count": 60,
   "metadata": {},
   "outputs": [
    {
     "data": {
      "text/plain": [
       "array([0.0979573 , 0.00041803, 0.08392234, 0.1242368 ])"
      ]
     },
     "execution_count": 60,
     "metadata": {},
     "output_type": "execute_result"
    }
   ],
   "source": [
    "train_weights = weights_results.mean(axis=-1)\n",
    "train_weights"
   ]
  },
  {
   "cell_type": "markdown",
   "metadata": {},
   "source": [
    "## Val-Test correlation"
   ]
  },
  {
   "cell_type": "code",
   "execution_count": 126,
   "metadata": {},
   "outputs": [],
   "source": [
    "def get_all_checkpoints(env, alg, verbose=True):\n",
    "    #var_coeff = 0.0\n",
    "    var_coeff_list = [0.0, 0.1, 1.0]\n",
    "    seeds = [1,2,3,4,5]\n",
    "    if alg == \"PG_mask\":\n",
    "        threshold_list = [0.05, 0.1, 0.5]\n",
    "    elif alg == \"PG_nomask\":\n",
    "        threshold_list = [0.0]\n",
    "    elif alg == \"PG_pib_mask\":\n",
    "        with open(f\"data/{env_name}_train_episodes\", 'rb') as f:\n",
    "            train_dataset = pickle.load(f)\n",
    "        with open(f\"data/{env_name}_val_episodes\", 'rb') as f:\n",
    "            val_dataset = pickle.load(f)\n",
    "        return {\"name\": alg, \"env\": env, \"thresh\": 0.2, \"var_coeff\": 0, \"seed\": 0}, wis_fix_policy(val_dataset), wis_fix_policy(val_dataset)\n",
    "    elif alg == \"BCQ\":\n",
    "        var_coeff_list = [0.0]\n",
    "        threshold_list = [0.0, 0.25]\n",
    "    elif alg == \"PQL\":\n",
    "        var_coeff_list = [1.0, 2.0, 5.0]\n",
    "        threshold_list = [0.0, 0.25]\n",
    "    best_wis = -100\n",
    "    score_list = np.array([])\n",
    "    test_score_list = np.array([])\n",
    "    for var_coeff in var_coeff_list:\n",
    "        for threshold in threshold_list:\n",
    "            for seed in seeds:\n",
    "                if alg == \"PQL\":\n",
    "                    param = {\"name\": alg, \"env\": env, \"thresh\": threshold, \"beta\": var_coeff, \"seed\": seed}\n",
    "                else:\n",
    "                    param = {\"name\": alg, \"env\": env, \"thresh\": threshold, \"var_coeff\": var_coeff, \"seed\": seed}\n",
    "                model, score, train_score, test_score = get_model_from_param(param)\n",
    "        \n",
    "                score_list = np.append(score_list, score[:,0])\n",
    "                test_score_list = np.append(test_score_list, test_score)\n",
    "    return score_list, test_score_list\n",
    "        "
   ]
  },
  {
   "cell_type": "code",
   "execution_count": 135,
   "metadata": {},
   "outputs": [
    {
     "data": {
      "image/png": "[encoded data removed]",
      "text/plain": [
       "<Figure size 432x288 with 1 Axes>"
      ]
     },
     "metadata": {},
     "output_type": "display_data"
    },
    {
     "data": {
      "image/png": "[encoded data removed]",
      "text/plain": [
       "<Figure size 432x288 with 1 Axes>"
      ]
     },
     "metadata": {},
     "output_type": "display_data"
    },
    {
     "data": {
      "image/png": "[encoded data removed]",
      "text/plain": [
       "<Figure size 432x288 with 1 Axes>"
      ]
     },
     "metadata": {},
     "output_type": "display_data"
    },
    {
     "data": {
      "image/png": "[encoded data removed]",
      "text/plain": [
       "<Figure size 432x288 with 1 Axes>"
      ]
     },
     "metadata": {},
     "output_type": "display_data"
    },
    {
     "data": {
      "image/png": "[encoded data removed]",
      "text/plain": [
       "<Figure size 432x288 with 1 Axes>"
      ]
     },
     "metadata": {},
     "output_type": "display_data"
    }
   ],
   "source": [
    "env_list = [\"cancer_mdp_pcv1\", \"cancer_mdp_pcv2\", \"cancer_mdp_pcv3\", \"cancer_mdp_pcv4\", \"cancer_mdp_pcv5\"]\n",
    "algo_list = [\"PG_mask\", \"PG_nomask\", \"BCQ\", \"PQL\"]\n",
    "for j,env_name in enumerate(env_list):\n",
    "    plt.figure()\n",
    "    for i,algo in enumerate(algo_list):\n",
    "        score, test_score = get_all_checkpoints(env_name, algo)\n",
    "        plt.scatter(score, test_score, label=algo)\n",
    "    plt.xlabel(\"Validation SNTIS\")\n",
    "    plt.ylabel(\"Online test value\")\n",
    "    plt.legend()\n",
    "    #plt.ylim([-20,3])\n",
    "    plt.title(env_name)\n",
    "    plt.savefig(\"val_test_env\"+str(j)+\".png\")\n",
    "        "
   ]
  },
  {
   "cell_type": "code",
   "execution_count": null,
   "metadata": {},
   "outputs": [],
   "source": []
  }
 ],
 "metadata": {
  "kernelspec": {
   "display_name": "Python 3",
   "language": "python",
   "name": "python3"
  },
  "language_info": {
   "codemirror_mode": {
    "name": "ipython",
    "version": 3
   },
   "file_extension": ".py",
   "mimetype": "text/x-python",
   "name": "python",
   "nbconvert_exporter": "python",
   "pygments_lexer": "ipython3",
   "version": "3.6.10"
  }
 },
 "nbformat": 4,
 "nbformat_minor": 2
}
