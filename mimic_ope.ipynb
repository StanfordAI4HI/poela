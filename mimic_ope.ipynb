{
 "cells": [
  {
   "cell_type": "code",
   "execution_count": 2,
   "metadata": {},
   "outputs": [],
   "source": [
    "import numpy as np\n",
    "import pandas as pd\n",
    "from tqdm.notebook import tqdm\n",
    "import pickle\n",
    "import matplotlib.pyplot as plt"
   ]
  },
  {
   "cell_type": "code",
   "execution_count": 3,
   "metadata": {},
   "outputs": [],
   "source": [
    "%load_ext autoreload"
   ]
  },
  {
   "cell_type": "code",
   "execution_count": 4,
   "metadata": {},
   "outputs": [],
   "source": [
    "%autoreload 2"
   ]
  },
  {
   "cell_type": "code",
   "execution_count": 5,
   "metadata": {},
   "outputs": [],
   "source": [
    "from src.offline_pg import ISPG\n",
    "from src.offline_ql import discrete_PQL"
   ]
  },
  {
   "cell_type": "markdown",
   "metadata": {},
   "source": [
    "## Compute IS weights"
   ]
  },
  {
   "cell_type": "code",
   "execution_count": 6,
   "metadata": {},
   "outputs": [],
   "source": [
    "with open(\"data/s45da_mimic_train_episodes\", 'rb') as f:\n",
    "    train_dataset = pickle.load(f)"
   ]
  },
  {
   "cell_type": "code",
   "execution_count": 7,
   "metadata": {},
   "outputs": [],
   "source": [
    "with open(\"data/s45da_mimic_val_episodes\", 'rb') as f:\n",
    "    val_dataset = pickle.load(f)"
   ]
  },
  {
   "cell_type": "code",
   "execution_count": 8,
   "metadata": {},
   "outputs": [],
   "source": [
    "with open(\"data/s45da_mimic_test_episodes\", 'rb') as f:\n",
    "    test_dataset = pickle.load(f)"
   ]
  },
  {
   "cell_type": "code",
   "execution_count": 9,
   "metadata": {},
   "outputs": [],
   "source": [
    "# computer IS weights: select pibs, compute pies\n",
    "def compute_is_weights(dataset, q_policy):\n",
    "    n = dataset[\"observations\"].shape[0]\n",
    "    horizon = dataset[\"observations\"].shape[1]\n",
    "    \n",
    "    rewards = dataset[\"rewards\"][:,:,0]\n",
    "    \n",
    "    pies = np.zeros((n, horizon))\n",
    "    pibs = np.zeros((n, horizon))\n",
    "    length = np.zeros((n))\n",
    "    \n",
    "    for idx in range(n):\n",
    "        for t in range(horizon):\n",
    "            pie = q_policy.get_prob(dataset[\"observations\"][idx,t,:], dataset[\"estm_pibs\"][idx,t,:], \n",
    "                                    dataset[\"nn_action_dist\"][idx,t,:])\n",
    "            a = dataset[\"actions\"][idx,t,0]\n",
    "            \n",
    "            pies[idx,t] = pie[a]\n",
    "            pibs[idx,t] = dataset[\"pibs\"][idx,t,a]\n",
    "    \n",
    "            if not dataset[\"not_done\"][idx,t,0]:\n",
    "                length[idx] = t+1\n",
    "                break\n",
    "    return pibs, pies, rewards, length"
   ]
  },
  {
   "cell_type": "code",
   "execution_count": 10,
   "metadata": {},
   "outputs": [],
   "source": [
    "def wis_ope(pibs, pies, rewards, length, weighted=True):\n",
    "    n = pibs.shape[0]\n",
    "    weights = np.ones((n,20))\n",
    "    \n",
    "    for i in range(n):\n",
    "        last = 1\n",
    "        for t in range(int(length[i])):\n",
    "            weights[i,t] = last*(pies[i,t]/pibs[i,t])    \n",
    "            last = weights[i,t]\n",
    "        weights[i,length[i]:] = weights[i,length[i]-1]\n",
    "    weights = np.clip(weights, 0, 1e3)\n",
    "    if weighted:\n",
    "        weights_norm = weights.sum(axis=0)\n",
    "    else:\n",
    "        weights_norm = weights.shape[0]\n",
    "    weights /= weights_norm\n",
    "    \n",
    "    return (weights[:,-1] * rewards.sum(axis=-1)).sum(axis=0), weights[:,-1]"
   ]
  },
  {
   "cell_type": "code",
   "execution_count": 11,
   "metadata": {},
   "outputs": [],
   "source": [
    "from scipy.stats import norm, t\n",
    "def bca_bootstrap(pibs, pies, rewards, length, alpha=0.05, B = 1000):\n",
    "    wis_list = []\n",
    "    n_patients = pibs.shape[0]\n",
    "    n_subsample = n_patients\n",
    "    for b in range(B):\n",
    "        ids = np.random.choice(n_patients, n_subsample)\n",
    "        sam_rewards = rewards[ids,:]\n",
    "        sam_pibs = pibs[ids,:]\n",
    "        sam_pies = pies[ids,:]\n",
    "        sam_length = length[ids]\n",
    "        wis_pie, _ = wis_ope(sam_pibs, sam_pies, sam_rewards, sam_length)\n",
    "        wis_list.append(wis_pie)\n",
    "    y = []\n",
    "    for i in range(n_patients):\n",
    "        sam_rewards = np.delete(rewards,i,axis=0)\n",
    "        sam_pibs = np.delete(pibs,i,axis=0)\n",
    "        sam_pies = np.delete(pies,i,axis=0)\n",
    "        sam_length = np.delete(length,i,axis=0)\n",
    "        wis_pie, _ = wis_ope(sam_pibs, sam_pies, sam_rewards, sam_length)\n",
    "        y.append(wis_pie)\n",
    "        \n",
    "    wis_list = np.array(wis_list)\n",
    "    wis_list = np.sort(wis_list)\n",
    "    y = np.array(y)\n",
    "    avg,_ = wis_ope(pibs, pies, rewards, length)\n",
    "    \n",
    "    ql, qu = norm.ppf(alpha), norm.ppf(1-alpha)\n",
    "\n",
    "    # Acceleration factor\n",
    "    num = np.sum((y.mean() - y)**3)\n",
    "    den = 6*np.sum((y.mean() - y)**2)**1.5\n",
    "    ahat = num / den\n",
    "\n",
    "    # Bias correction factor\n",
    "    zhat = norm.ppf(np.mean(wis_list < avg))\n",
    "    a1 = norm.cdf(zhat + (zhat + ql)/(1-ahat*(zhat+ql)))\n",
    "    a2 = norm.cdf(zhat + (zhat + qu)/(1-ahat*(zhat+qu)))\n",
    "\n",
    "    print('Accel: %0.3f, bz: %0.3f, a1: %0.3f, a2: %0.3f' % (ahat, zhat, a1, a2))\n",
    "    return np.quantile(wis_list, [a1, a2]), wis_list"
   ]
  },
  {
   "cell_type": "code",
   "execution_count": 12,
   "metadata": {},
   "outputs": [],
   "source": [
    "def bca_bootstrap_mc(x, alpha=0.05, B=1000):\n",
    "    values = []\n",
    "    n_patients = x.shape[0]\n",
    "    n_subsample = n_patients\n",
    "    for b in tqdm(range(B)):\n",
    "        ids = np.random.choice(n_patients, n_subsample)\n",
    "        value = x[ids,:].mean()\n",
    "        values.append(value)\n",
    "    y = []\n",
    "    for i in range(n_patients):\n",
    "        x_sub = np.delete(x,i,axis=0)\n",
    "        value = x_sub.mean()\n",
    "        y.append(value)\n",
    "        \n",
    "    values = np.array(values)\n",
    "    values = np.sort(values)\n",
    "    y = np.array(y)\n",
    "    avg = x.mean()\n",
    "    \n",
    "    ql, qu = norm.ppf(alpha), norm.ppf(1-alpha)\n",
    "\n",
    "    # Acceleration factor\n",
    "    num = np.sum((y.mean() - y)**3)\n",
    "    den = 6*np.sum((y.mean() - y)**2)**1.5\n",
    "    ahat = num / den\n",
    "\n",
    "    # Bias correction factor\n",
    "    zhat = norm.ppf(np.mean(values < avg))\n",
    "    a1 = norm.cdf(zhat + (zhat + ql)/(1-ahat*(zhat+ql)))\n",
    "    a2 = norm.cdf(zhat + (zhat + qu)/(1-ahat*(zhat+qu)))\n",
    "\n",
    "    print('Accel: %0.3f, bz: %0.3f, a1: %0.3f, a2: %0.3f' % (ahat, zhat, a1, a2))\n",
    "    return np.quantile(values, [a1, a2]), values"
   ]
  },
  {
   "cell_type": "markdown",
   "metadata": {},
   "source": [
    "## Plot Result"
   ]
  },
  {
   "cell_type": "markdown",
   "metadata": {},
   "source": [
    "### Pick the Best Model on Validation Set"
   ]
  },
  {
   "cell_type": "code",
   "execution_count": 13,
   "metadata": {},
   "outputs": [],
   "source": [
    "ESS_lb = 200"
   ]
  },
  {
   "cell_type": "code",
   "execution_count": 45,
   "metadata": {},
   "outputs": [],
   "source": [
    "def get_model_from_param(param, ess_constraint=True):\n",
    "    \n",
    "    FEATURES_UB = [20, 0.5000, 0.5000, 5.1672, 2.7543, 7.9158, 2.7949, 5.2763, 7.1967,\n",
    "                      9.0866, 11.8737, 7.8319, 236.7704, 3.0286, 9.9485, 8.7237, 6.2627, 15.6281,\n",
    "                      8.5191, 13.5491, 6.1870, 40.5525, 10.0892, 6.7538, 20.4172, 8.5691, 6.5705,\n",
    "                      12.9162, 6.6171, 17.8618, 29.6399, 5.0306, 11.4043, 40.8348, 5.0392, 2.3167,\n",
    "                      23.0958, 7.7701, 7.5767, 5.6300, 4.9695, 4.2235, 1.7962, 2.8099, 2.0322]\n",
    "    \n",
    "    if param[\"name\"] in {\"POELA\", \"POELA-IS\"}:\n",
    "        settings = f\"PG_{param['env']}_masknn_action_dist_weightedTrueam0.0\"\\\n",
    "                   f\"thresh{param['thresh']}var{param['var_coeff']}clip0.01seed{param['seed']}\"\n",
    "        model = ISPG(state_dim=45, num_actions=25, device=\"cpu\", \n",
    "                     threshold=10000, action_mask_type=\"nn_action_dist\") #threshold=param['thresh']     \n",
    "    \n",
    "    elif param[\"name\"] in {\"norm-POEM\", \"norm-IS\", \"POELA-kNN\", \"POELA-kNN-IS\", \"norm-POEM*\", \"norm-IS*\"}:\n",
    "        settings = f\"PG_{param['env']}_maskstep_weightedTrueam0.0\"\\\n",
    "                   f\"thresh{param['thresh']}var{param['var_coeff']}clip0.01seed{param['seed']}\"\n",
    "        model = ISPG(state_dim=45, num_actions=25, device=\"cpu\", \n",
    "                     threshold=param['thresh'], action_mask_type=\"step\")\n",
    "    \n",
    "    elif param[\"name\"] == \"BCQ\":\n",
    "        settings = f\"BCQ_{param['env']}_thresh{param['thresh']}_seed{param['seed']}\"\n",
    "        model = discrete_PQL(num_actions=25, state_dim=45, device=\"cpu\", state_clipping=False, \n",
    "                             max_state=FEATURES_UB, action_threshold=param['thresh'], log_pibs=False)\n",
    "    \n",
    "    elif param[\"name\"] == \"PQL\":\n",
    "        settings = f\"PQL_{param['env']}_thresh{param['thresh']}_seed{param['seed']}\"\n",
    "        model = discrete_PQL(num_actions=25, state_dim=45, device=\"cpu\", state_clipping=True, \n",
    "                             max_state=FEATURES_UB, action_threshold=param['thresh'], log_pibs=False)\n",
    "        \n",
    "    if \"POELA\" in param[\"name\"] or \"norm-\" in param[\"name\"]:\n",
    "        val_score = np.load(f\"./results/{settings}_val_wis_scores.npy\")\n",
    "        train_score = np.load(f\"./results/{settings}_train_wis_scores.npy\")\n",
    "        #print(param['thresh'], param['var_coeff'], param['seed'], train_score.shape, val_score.shape)\n",
    "        #print(np.max(val_score[:,0]), np.max((val_score[:,-1]>200)*val_score[:,0]), val_score[-1,0])\n",
    "        if ess_constraint and np.sum(val_score[:,-1]>200):\n",
    "            model.load(f\"models/{settings}_best_\")\n",
    "            train_score = train_score[np.argmax((val_score[:,-1]>200)*val_score[:,0]),:]\n",
    "            val_score = val_score[np.argmax((val_score[:,-1]>200)*val_score[:,0]),:]\n",
    "        else:\n",
    "            model.load(f\"models/{settings}_best_noess_\")\n",
    "            train_score = train_score[np.argmax(val_score[:,0]),:]\n",
    "            val_score = val_score[np.argmax(val_score[:,0]),:]\n",
    "    else:\n",
    "        val_score = np.load(f\"./results/{settings}_val_scores.npy\")\n",
    "        train_score = np.load(f\"./results/{settings}_q_scores.npy\")\n",
    "        #print(np.argmax(val_score[:,0]), np.argmax((val_score[:,-1]>200)*val_score[:,0]))\n",
    "        if ess_constraint and np.sum(val_score[:,-1]>200):\n",
    "            model.load(f\"models/{settings}_best_\")\n",
    "            train_score = train_score[np.argmax((val_score[:,-1]>200)*val_score[:,0])]\n",
    "            val_score = val_score[np.argmax((val_score[:,-1]>200)*val_score[:,0]),:]\n",
    "        else:\n",
    "            model.load(f\"models/{settings}_best_noess_\")\n",
    "            train_score = train_score[np.argmax(val_score[:,0])]\n",
    "            val_score = val_score[np.argmax(val_score[:,0]),:]\n",
    "    \n",
    "    return model, val_score, train_score"
   ]
  },
  {
   "cell_type": "code",
   "execution_count": 34,
   "metadata": {},
   "outputs": [],
   "source": [
    "seeds = [1,2,3,4,5]"
   ]
  },
  {
   "cell_type": "code",
   "execution_count": 35,
   "metadata": {
    "scrolled": true
   },
   "outputs": [
    {
     "name": "stdout",
     "output_type": "stream",
     "text": [
      "best wis: 97.38  ESS: 91.02 at: {'name': 'POELA', 'env': 'mimic45', 'thresh': 0.4, 'var_coeff': 0.0, 'seed': 1}\n",
      "best wis: 97.87  ESS: 77.87 at: {'name': 'POELA', 'env': 'mimic45', 'thresh': 0.4, 'var_coeff': 0.0, 'seed': 3}\n",
      "best wis: 98.5  ESS: 85.41 at: {'name': 'POELA', 'env': 'mimic45', 'thresh': 0.4, 'var_coeff': 0.1, 'seed': 3}\n",
      "best wis: 99.25  ESS: 88.19 at: {'name': 'POELA', 'env': 'mimic45', 'thresh': 0.4, 'var_coeff': 1.0, 'seed': 3}\n",
      "reliable wis: 93.6  ESS: 376.5 at: {'name': 'POELA', 'env': 'mimic45', 'thresh': 0.6, 'var_coeff': 0.0, 'seed': 1}\n",
      "reliable wis: 93.87  ESS: 374.5 at: {'name': 'POELA', 'env': 'mimic45', 'thresh': 0.6, 'var_coeff': 0.0, 'seed': 4}\n",
      "reliable wis: 94.01  ESS: 407.28 at: {'name': 'POELA', 'env': 'mimic45', 'thresh': 0.6, 'var_coeff': 0.1, 'seed': 2}\n"
     ]
    }
   ],
   "source": [
    "# Our method\n",
    "var_coeff_list = [0.0, 0.1, 1.0, 10.0]\n",
    "threshold_list = [0.4, 0.6, 0.8, 1.0]\n",
    "\n",
    "best_wis = -100\n",
    "best_reliable_wis = -100\n",
    "for threshold in threshold_list:\n",
    "    for var_coeff in var_coeff_list:\n",
    "        for seed in seeds:\n",
    "            param = {\"name\": \"POELA\", \"env\": \"mimic45\", \"thresh\": threshold, \"var_coeff\": var_coeff, \"seed\": seed}\n",
    "            model, score, _ = get_model_from_param(param)\n",
    "        \n",
    "            wis_pie = score[0]\n",
    "            ESS = score[-1]\n",
    "        \n",
    "            if ESS >= ESS_lb and wis_pie > best_reliable_wis:\n",
    "                best_reliable_wis = wis_pie\n",
    "                ours_rel_param = param\n",
    "                print(\"reliable wis:\", round(wis_pie, 2), \" ESS:\", round(ESS, 2), \"at:\", param)\n",
    "                \n",
    "            model, score, _ = get_model_from_param(param, False)\n",
    "            wis_pie = score[0]\n",
    "            ESS = score[-1]\n",
    "            if wis_pie > best_wis:\n",
    "                best_wis = wis_pie\n",
    "                ours_param = param\n",
    "                print(\"best wis:\", round(wis_pie, 2), \" ESS:\", round(ESS, 2), \"at:\", param)"
   ]
  },
  {
   "cell_type": "code",
   "execution_count": 36,
   "metadata": {},
   "outputs": [
    {
     "name": "stdout",
     "output_type": "stream",
     "text": [
      "New wis: 97.38  ESS: 91.02 at: {'name': 'POELA-IS', 'env': 'mimic45', 'thresh': 0.4, 'var_coeff': 0.0, 'seed': 1}\n",
      "New wis: 97.87  ESS: 77.87 at: {'name': 'POELA-IS', 'env': 'mimic45', 'thresh': 0.4, 'var_coeff': 0.0, 'seed': 3}\n",
      "New best reliable wis: 93.6  ESS: 376.5 at: {'name': 'POELA-IS', 'env': 'mimic45', 'thresh': 0.6, 'var_coeff': 0.0, 'seed': 1}\n",
      "New best reliable wis: 93.87  ESS: 374.5 at: {'name': 'POELA-IS', 'env': 'mimic45', 'thresh': 0.6, 'var_coeff': 0.0, 'seed': 4}\n"
     ]
    }
   ],
   "source": [
    "# Our method no var\n",
    "var_coeff_list = [0.0]\n",
    "threshold_list = [0.4, 0.6, 0.8, 1.0]\n",
    "\n",
    "best_wis = -100\n",
    "best_reliable_wis = -100\n",
    "for threshold in threshold_list:\n",
    "    for var_coeff in var_coeff_list:\n",
    "        for seed in seeds:\n",
    "            param = {\"name\": \"POELA-IS\", \"env\": \"mimic45\", \"thresh\": threshold, \"var_coeff\": var_coeff, \"seed\": seed}\n",
    "            model, score, _ = get_model_from_param(param)\n",
    "        \n",
    "            wis_pie = score[0]\n",
    "            ESS = score[-1]\n",
    "        \n",
    "            if ESS >= ESS_lb and wis_pie > best_reliable_wis:\n",
    "                best_reliable_wis = wis_pie\n",
    "                ours_novar_rel_param = param\n",
    "                print(\"New best reliable wis:\", round(wis_pie, 2), \" ESS:\", round(ESS, 2), \"at:\", param)\n",
    "            model, score, _ = get_model_from_param(param, False)\n",
    "            wis_pie = score[0]\n",
    "            ESS = score[-1]\n",
    "            if wis_pie > best_wis:\n",
    "                best_wis = wis_pie\n",
    "                ours_novar_param = param\n",
    "                print(\"New wis:\", round(wis_pie, 2), \" ESS:\", round(ESS, 2), \"at:\", param)"
   ]
  },
  {
   "cell_type": "code",
   "execution_count": 37,
   "metadata": {},
   "outputs": [
    {
     "name": "stdout",
     "output_type": "stream",
     "text": [
      "New wis: 99.37  ESS: 14.23 at: {'name': 'POELA-kNN', 'env': 'mimic45', 'thresh': 0.01, 'var_coeff': 0.0, 'seed': 1}\n",
      "New wis: 99.98  ESS: 11.81 at: {'name': 'POELA-kNN', 'env': 'mimic45', 'thresh': 0.01, 'var_coeff': 0.0, 'seed': 3}\n",
      "New best reliable wis: 88.81  ESS: 744.85 at: {'name': 'POELA-kNN', 'env': 'mimic45', 'thresh': 0.01, 'var_coeff': 10.0, 'seed': 1}\n",
      "New best reliable wis: 88.82  ESS: 771.94 at: {'name': 'POELA-kNN', 'env': 'mimic45', 'thresh': 0.01, 'var_coeff': 10.0, 'seed': 4}\n",
      "New best reliable wis: 89.94  ESS: 402.48 at: {'name': 'POELA-kNN', 'env': 'mimic45', 'thresh': 0.01, 'var_coeff': 10.0, 'seed': 5}\n",
      "New best reliable wis: 90.31  ESS: 227.4 at: {'name': 'POELA-kNN', 'env': 'mimic45', 'thresh': 0.02, 'var_coeff': 0.1, 'seed': 1}\n",
      "New best reliable wis: 90.82  ESS: 272.41 at: {'name': 'POELA-kNN', 'env': 'mimic45', 'thresh': 0.02, 'var_coeff': 10.0, 'seed': 4}\n",
      "New best reliable wis: 92.21  ESS: 378.09 at: {'name': 'POELA-kNN', 'env': 'mimic45', 'thresh': 0.02, 'var_coeff': 10.0, 'seed': 5}\n"
     ]
    }
   ],
   "source": [
    "# kNN\n",
    "var_coeff_list = [0.0, 0.1, 1.0, 10.0]\n",
    "threshold_list = [0.01, 0.02, 0.05, 0.1]\n",
    "\n",
    "best_wis = -100\n",
    "best_reliable_wis = -100\n",
    "for threshold in threshold_list:\n",
    "    for var_coeff in var_coeff_list:\n",
    "        for seed in seeds:\n",
    "            try:\n",
    "                param = {\"name\": \"POELA-kNN\", \"env\": \"mimic45\", \"thresh\": threshold, \"var_coeff\": var_coeff, \"seed\": seed}\n",
    "                model, score, _ = get_model_from_param(param)\n",
    "            except:\n",
    "                continue\n",
    "            wis_pie = score[0]\n",
    "            ESS = score[-1]\n",
    "        \n",
    "            if ESS >= ESS_lb and wis_pie > best_reliable_wis:\n",
    "                best_reliable_wis = wis_pie\n",
    "                knn_rel_param = param\n",
    "                print(\"New best reliable wis:\", round(wis_pie, 2), \" ESS:\", round(ESS, 2), \"at:\", param)\n",
    "            \n",
    "            model, score, _ = get_model_from_param(param, False)\n",
    "            wis_pie = score[0]\n",
    "            #print(wis_pie)\n",
    "            ESS = score[-1]\n",
    "            if wis_pie > best_wis:\n",
    "                best_wis = wis_pie\n",
    "                knn_param = param\n",
    "                print(\"New wis:\", round(wis_pie, 2), \" ESS:\", round(ESS, 2), \"at:\", param)\n"
   ]
  },
  {
   "cell_type": "code",
   "execution_count": 38,
   "metadata": {},
   "outputs": [
    {
     "name": "stdout",
     "output_type": "stream",
     "text": [
      "New wis: 99.37  ESS: 14.23 at: {'name': 'norm-POEM', 'env': 'mimic45', 'thresh': 0.01, 'var_coeff': 0.0, 'seed': 1}\n",
      "New wis: 99.98  ESS: 11.81 at: {'name': 'norm-POEM', 'env': 'mimic45', 'thresh': 0.01, 'var_coeff': 0.0, 'seed': 3}\n",
      "New best reliable wis: 88.81  ESS: 744.85 at: {'name': 'norm-POEM', 'env': 'mimic45', 'thresh': 0.01, 'var_coeff': 10.0, 'seed': 1}\n",
      "New best reliable wis: 88.82  ESS: 771.94 at: {'name': 'norm-POEM', 'env': 'mimic45', 'thresh': 0.01, 'var_coeff': 10.0, 'seed': 4}\n",
      "New best reliable wis: 89.94  ESS: 402.48 at: {'name': 'norm-POEM', 'env': 'mimic45', 'thresh': 0.01, 'var_coeff': 10.0, 'seed': 5}\n"
     ]
    }
   ],
   "source": [
    "# pg\n",
    "var_coeff_list = [0.0, 0.1, 1.0, 10.0]\n",
    "threshold_list = [0.01]\n",
    "\n",
    "best_wis = -100\n",
    "best_reliable_wis = -100\n",
    "for threshold in threshold_list:\n",
    "    for var_coeff in var_coeff_list:\n",
    "        for seed in seeds:\n",
    "            param = {\"name\": \"norm-POEM\", \"env\": \"mimic45\", \"thresh\": threshold, \"var_coeff\": var_coeff, \"seed\": seed}\n",
    "            model, score, _ = get_model_from_param(param)\n",
    "            wis_pie = score[0]\n",
    "            ESS = score[-1]\n",
    "        \n",
    "            if ESS >= ESS_lb and wis_pie > best_reliable_wis:\n",
    "                best_reliable_wis = wis_pie\n",
    "                npoem_rel_param = param\n",
    "                print(\"New best reliable wis:\", round(wis_pie, 2), \" ESS:\", round(ESS, 2), \"at:\", param)\n",
    "            model, score, _ = get_model_from_param(param, False)\n",
    "            wis_pie = score[0]\n",
    "            #print(wis_pie)\n",
    "            ESS = score[-1]\n",
    "            if wis_pie > best_wis:\n",
    "                best_wis = wis_pie\n",
    "                npoem_param = param\n",
    "                print(\"New wis:\", round(wis_pie, 2), \" ESS:\", round(ESS, 2), \"at:\", param)\n"
   ]
  },
  {
   "cell_type": "code",
   "execution_count": 39,
   "metadata": {},
   "outputs": [
    {
     "name": "stdout",
     "output_type": "stream",
     "text": [
      "New wis: 100.0  ESS: 1.0 at: {'name': 'BCQ', 'env': 'mimic45', 'thresh': 0.0, 'seed': 1}\n",
      "New wis: 100.0  ESS: 1.0 at: {'name': 'BCQ', 'env': 'mimic45', 'thresh': 0.0, 'seed': 2}\n",
      "New best reliable wis: 90.1  ESS: 235.56 at: {'name': 'BCQ', 'env': 'mimic45', 'thresh': 0.01, 'seed': 1}\n",
      "New best reliable wis: 90.55  ESS: 266.1 at: {'name': 'BCQ', 'env': 'mimic45', 'thresh': 0.01, 'seed': 3}\n",
      "New best reliable wis: 91.24  ESS: 226.76 at: {'name': 'BCQ', 'env': 'mimic45', 'thresh': 0.01, 'seed': 4}\n"
     ]
    }
   ],
   "source": [
    "# BCQ\n",
    "threshold_list = [0.0, 0.01, 0.05, 0.1, 0.3]\n",
    "\n",
    "best_wis = -100\n",
    "best_reliable_wis = -100\n",
    "for threshold in threshold_list:\n",
    "    for seed in seeds:\n",
    "        param = {\"name\": \"BCQ\", \"env\": \"mimic45\", \"thresh\": threshold, \"seed\": seed}\n",
    "        model, score, _ = get_model_from_param(param)\n",
    "        wis_pie = score[0]\n",
    "        ESS = score[-1]\n",
    "        \n",
    "        if ESS >= ESS_lb and wis_pie > best_reliable_wis:\n",
    "            best_reliable_wis = wis_pie\n",
    "            bcq_rel_param = param\n",
    "            print(\"New best reliable wis:\", round(wis_pie, 2), \" ESS:\", round(ESS, 2), \"at:\", param)\n",
    "        \n",
    "        model, score, _ = get_model_from_param(param, False)\n",
    "        wis_pie = score[0]\n",
    "        ESS = score[-1]\n",
    "        if wis_pie > best_wis:\n",
    "            best_wis = wis_pie\n",
    "            bcq_param = param\n",
    "            print(\"New wis:\", round(wis_pie, 2), \" ESS:\", round(ESS, 2), \"at:\", param)"
   ]
  },
  {
   "cell_type": "code",
   "execution_count": 40,
   "metadata": {},
   "outputs": [
    {
     "name": "stdout",
     "output_type": "stream",
     "text": [
      "New wis: 100.0  ESS: 1.0 at: {'name': 'PQL', 'env': 'mimic45', 'thresh': 0.0, 'seed': 1}\n",
      "New best reliable wis: 89.77  ESS: 243.64 at: {'name': 'PQL', 'env': 'mimic45', 'thresh': 0.01, 'seed': 1}\n",
      "New best reliable wis: 91.18  ESS: 234.14 at: {'name': 'PQL', 'env': 'mimic45', 'thresh': 0.01, 'seed': 4}\n"
     ]
    }
   ],
   "source": [
    "# PQL\n",
    "threshold_list = [0.0, 0.01, 0.05, 0.1, 0.3]\n",
    "\n",
    "best_wis = -100\n",
    "best_reliable_wis = -100\n",
    "for threshold in threshold_list:\n",
    "    for seed in seeds:\n",
    "        param = {\"name\": \"PQL\", \"env\": \"mimic45\", \"thresh\": threshold, \"seed\": seed}\n",
    "        model, score, _ = get_model_from_param(param)\n",
    "        wis_pie = score[0]\n",
    "        ESS = score[-1]\n",
    "        \n",
    "        if ESS >= ESS_lb and wis_pie > best_reliable_wis:\n",
    "            best_reliable_wis = wis_pie\n",
    "            pql_rel_param = param\n",
    "            print(\"New best reliable wis:\", round(wis_pie, 2), \" ESS:\", round(ESS, 2), \"at:\", param)\n",
    "        \n",
    "        model, score, _ = get_model_from_param(param, False)\n",
    "        wis_pie = score[0]\n",
    "        ESS = score[-1]\n",
    "        if wis_pie > best_wis:\n",
    "            best_wis = wis_pie\n",
    "            pql_param = param\n",
    "            print(\"New wis:\", round(wis_pie, 2), \" ESS:\", round(ESS, 2), \"at:\", param)"
   ]
  },
  {
   "cell_type": "markdown",
   "metadata": {},
   "source": [
    "### Compute WIS and BCa confidence interval on test set"
   ]
  },
  {
   "cell_type": "code",
   "execution_count": 51,
   "metadata": {
    "scrolled": true
   },
   "outputs": [
    {
     "name": "stdout",
     "output_type": "stream",
     "text": [
      "Accel: -0.018, bz: -0.033, a1: 0.039, a2: 0.938\n",
      "WIS: 87.63949777272308\n",
      "ESS: 528.1810651990509\n",
      "[85.06 90.  ]\n",
      "Accel: -0.017, bz: -0.048, a1: 0.037, a2: 0.934\n",
      "WIS: 86.2944708138815\n",
      "ESS: 491.71875054933196\n",
      "[83.51 88.59]\n",
      "Accel: -0.070, bz: -0.116, a1: 0.017, a2: 0.897\n",
      "WIS: 82.36211922281583\n",
      "ESS: 21.239846409705695\n",
      "[62.65 92.78]\n",
      "Accel: -0.070, bz: -0.050, a1: 0.024, a2: 0.917\n",
      "WIS: 82.36211922281583\n",
      "ESS: 21.239846409705695\n",
      "[64.34 93.6 ]\n",
      "Accel: -0.078, bz: -0.068, a1: 0.020, a2: 0.909\n",
      "WIS: 83.78235170786718\n",
      "ESS: 9.505121394305865\n",
      "[52.23 99.99]\n",
      "Accel: 0.164, bz: 0.108, a1: 0.132, a2: 0.995\n",
      "WIS: 96.32784699205546\n",
      "ESS: 1.2731855860578365\n",
      "[ 62.41 100.  ]\n"
     ]
    }
   ],
   "source": [
    "CIs = []\n",
    "ESSs = []\n",
    "wis_tests = []\n",
    "\n",
    "for param in [ours_param, ours_novar_param, knn_param, npoem_param, bcq_param, pql_param]:\n",
    "    model, val_score, _ = get_model_from_param(param, False)\n",
    "    pibs, pies, rewards, length = compute_is_weights(test_dataset, model)\n",
    "    length = length.astype(int)\n",
    "    wis_pie, weights = wis_ope(pibs, pies, rewards, length)\n",
    "\n",
    "    v_pib = rewards.sum(axis=-1).mean(axis=0)\n",
    "    ESS = 1/(np.sum(weights**2,axis=0))\n",
    "    lb_ub, wis_list = bca_bootstrap(pibs, pies, rewards, length, alpha=0.05)\n",
    "\n",
    "    wis_tests.append(wis_pie)\n",
    "    ESSs.append(ESS)\n",
    "    CIs.append(lb_ub)\n",
    "    print(\"WIS:\", wis_pie)\n",
    "    print(\"ESS:\", ESS)\n",
    "    print(lb_ub)"
   ]
  },
  {
   "cell_type": "code",
   "execution_count": 44,
   "metadata": {},
   "outputs": [],
   "source": [
    "ESSs_noess = np.array(ESSs)\n",
    "CIs_noess = np.array(CIs)\n",
    "wis_tests_noess = np.array(wis_tests)"
   ]
  },
  {
   "cell_type": "code",
   "execution_count": 45,
   "metadata": {
    "scrolled": true
   },
   "outputs": [
    {
     "name": "stdout",
     "output_type": "stream",
     "text": [
      "Accel: -0.021, bz: 0.048, a1: 0.054, a2: 0.954\n",
      "WIS: 91.46953279566598\n",
      "ESS: 624.9277837733208\n",
      "[89.5919446  93.24882146]\n",
      "Accel: -0.024, bz: -0.005, a1: 0.043, a2: 0.942\n",
      "WIS: 91.89766854852357\n",
      "ESS: 541.6944688343083\n",
      "[89.76281071 93.77737454]\n",
      "Accel: -0.023, bz: -0.048, a1: 0.035, a2: 0.932\n",
      "WIS: 87.95621154928499\n",
      "ESS: 372.00541193367064\n",
      "[84.77195178 90.58275047]\n",
      "Accel: -0.021, bz: -0.005, a1: 0.043, a2: 0.943\n",
      "WIS: 87.71563821179501\n",
      "ESS: 399.56605713789367\n",
      "[84.90612873 90.04370031]\n",
      "Accel: -0.020, bz: 0.070, a1: 0.060, a2: 0.958\n",
      "WIS: 82.67837938055808\n",
      "ESS: 228.8200254461097\n",
      "[78.2510896 86.8322061]\n",
      "Accel: -0.022, bz: 0.035, a1: 0.051, a2: 0.951\n",
      "WIS: 84.40907192144543\n",
      "ESS: 231.93008071238776\n",
      "[80.13960247 88.29341149]\n"
     ]
    }
   ],
   "source": [
    "CIs = []\n",
    "ESSs = []\n",
    "wis_tests = []\n",
    "\n",
    "# for param in [ours_rel_param, ours_novar_rel_param, knn_rel_param, knn_novar_rel_param, \n",
    "#               npoem_rel_param, npoem_novar_param, nomask_rel_param, nomask_novar_param, \n",
    "#               bcq_rel_param, pql_rel_param]:\n",
    "for param in [ours_rel_param, ours_novar_rel_param, knn_rel_param, npoem_rel_param, bcq_rel_param, pql_rel_param]:\n",
    "    model, _, _ = get_model_from_param(param)\n",
    "    pibs, pies, rewards, length = compute_is_weights(test_dataset, model)\n",
    "    length = length.astype(int)\n",
    "    wis_pie, weights = wis_ope(pibs, pies, rewards, length)\n",
    "\n",
    "    v_pib = rewards.sum(axis=-1).mean(axis=0)\n",
    "    ESS = 1/(np.sum(weights**2,axis=0))\n",
    "    lb_ub, wis_list = bca_bootstrap(pibs, pies, rewards, length, alpha=0.05)\n",
    "\n",
    "    wis_tests.append(wis_pie)\n",
    "    ESSs.append(ESS)\n",
    "    CIs.append(lb_ub)\n",
    "    print(\"WIS:\", wis_pie)\n",
    "    print(\"ESS:\", ESS)\n",
    "    print(lb_ub)"
   ]
  },
  {
   "cell_type": "code",
   "execution_count": 46,
   "metadata": {},
   "outputs": [
    {
     "data": {
      "application/vnd.jupyter.widget-view+json": {
       "model_id": "444853adc6674f658e595c08a4a13e2b",
       "version_major": 2,
       "version_minor": 0
      },
      "text/html": [
       "<p>Failed to display Jupyter Widget of type <code>HBox</code>.</p>\n",
       "<p>\n",
       "  If you're reading this message in the Jupyter Notebook or JupyterLab Notebook, it may mean\n",
       "  that the widgets JavaScript is still loading. If this message persists, it\n",
       "  likely means that the widgets JavaScript library is either not installed or\n",
       "  not enabled. See the <a href=\"https://ipywidgets.readthedocs.io/en/stable/user_install.html\">Jupyter\n",
       "  Widgets Documentation</a> for setup instructions.\n",
       "</p>\n",
       "<p>\n",
       "  If you're reading this message in another frontend (for example, a static\n",
       "  rendering on GitHub or <a href=\"https://nbviewer.jupyter.org/\">NBViewer</a>),\n",
       "  it may mean that your frontend doesn't currently support widgets.\n",
       "</p>\n"
      ],
      "text/plain": [
       "HBox(children=(FloatProgress(value=0.0, max=1000.0), HTML(value='')))"
      ]
     },
     "metadata": {},
     "output_type": "display_data"
    },
    {
     "name": "stdout",
     "output_type": "stream",
     "text": [
      "\n",
      "Accel: -0.005, bz: -0.020, a1: 0.045, a2: 0.944\n"
     ]
    }
   ],
   "source": [
    "ci_pib, _ = bca_bootstrap_mc(test_dataset[\"rewards\"].sum(axis=1))"
   ]
  },
  {
   "cell_type": "code",
   "execution_count": 47,
   "metadata": {},
   "outputs": [
    {
     "name": "stdout",
     "output_type": "stream",
     "text": [
      "81.10183639398998 [79.83305509 82.18267816]\n"
     ]
    }
   ],
   "source": [
    "print(v_pib, ci_pib)"
   ]
  },
  {
   "cell_type": "code",
   "execution_count": 48,
   "metadata": {},
   "outputs": [],
   "source": [
    "ESSs_3seed = np.array(ESSs)\n",
    "CIs_3seed = np.array(CIs)\n",
    "wis_tests_3seed = np.array(wis_tests)"
   ]
  },
  {
   "cell_type": "code",
   "execution_count": 49,
   "metadata": {},
   "outputs": [],
   "source": [
    "ESSs = ESSs_3seed\n",
    "CIs = CIs_3seed\n",
    "wis_tests = wis_tests_3seed"
   ]
  },
  {
   "cell_type": "code",
   "execution_count": 50,
   "metadata": {},
   "outputs": [],
   "source": [
    "np.set_printoptions(precision=2, linewidth=100)"
   ]
  },
  {
   "cell_type": "markdown",
   "metadata": {},
   "source": [
    "## Weights on low reward samples"
   ]
  },
  {
   "cell_type": "code",
   "execution_count": 43,
   "metadata": {},
   "outputs": [
    {
     "name": "stdout",
     "output_type": "stream",
     "text": [
      "WIS: 97.18793922867032\n",
      "ESS: 2936.7939155941785\n",
      "WIS: 97.87511531583822\n",
      "ESS: 2722.5502164135955\n",
      "WIS: 99.81041850227159\n",
      "ESS: 1054.8303740271786\n",
      "WIS: 99.65193736473071\n",
      "ESS: 1102.3197481723705\n",
      "WIS: 85.16059005417785\n",
      "ESS: 589.0570844000422\n",
      "WIS: 85.08755549123165\n",
      "ESS: 610.4690433047814\n"
     ]
    }
   ],
   "source": [
    "CIs = []\n",
    "ESSs = []\n",
    "wis_tests = []\n",
    "\n",
    "# for param in [ours_rel_param, ours_novar_rel_param, knn_rel_param, knn_novar_rel_param, \n",
    "#               npoem_rel_param, npoem_novar_param, nomask_rel_param, nomask_novar_param, \n",
    "#               bcq_rel_param, pql_rel_param]:\n",
    "for param in [ours_rel_param, ours_novar_rel_param, knn_rel_param, npoem_rel_param, bcq_rel_param, pql_rel_param]:\n",
    "    model, _, _ = get_model_from_param(param)\n",
    "    pibs, pies, rewards, length = compute_is_weights(train_dataset, model)\n",
    "    length = length.astype(int)\n",
    "    wis_pie, weights = wis_ope(pibs, pies, rewards, length)\n",
    "\n",
    "    v_pib = rewards.sum(axis=-1).mean(axis=0)\n",
    "    ESS = 1/(np.sum(weights**2,axis=0))\n",
    "    #lb_ub, wis_list = bca_bootstrap(pibs, pies, rewards, length, alpha=0.05)\n",
    "\n",
    "    wis_tests.append(wis_pie)\n",
    "    ESSs.append(ESS)\n",
    "    #CIs.append(lb_ub)\n",
    "    print(\"WIS:\", wis_pie)\n",
    "    print(\"ESS:\", ESS)\n",
    "    #print(lb_ub)"
   ]
  },
  {
   "cell_type": "code",
   "execution_count": 44,
   "metadata": {},
   "outputs": [
    {
     "data": {
      "text/plain": [
       "[0.02812060771329683,\n",
       " 0.021248846841617874,\n",
       " 0.0018958149772840827,\n",
       " 0.0034806263526928616,\n",
       " 0.14839409945822157,\n",
       " 0.1491244450876834]"
      ]
     },
     "execution_count": 44,
     "metadata": {},
     "output_type": "execute_result"
    }
   ],
   "source": [
    "# because low reward means reward = 0\n",
    "# reward in dataset is either 0 or 100, and weighted IS is a normalized weighted average.\n",
    "[1.0 - x/100.0 for x in wis_tests]"
   ]
  },
  {
   "cell_type": "markdown",
   "metadata": {},
   "source": [
    "## Show the effect of different hyperparameter \\delta"
   ]
  },
  {
   "cell_type": "code",
   "execution_count": 27,
   "metadata": {},
   "outputs": [
    {
     "data": {
      "text/plain": [
       "[1, 2, 3, 4, 5]"
      ]
     },
     "execution_count": 27,
     "metadata": {},
     "output_type": "execute_result"
    }
   ],
   "source": [
    "seeds"
   ]
  },
  {
   "cell_type": "code",
   "execution_count": 29,
   "metadata": {},
   "outputs": [
    {
     "name": "stdout",
     "output_type": "stream",
     "text": [
      "best wis: 97.38  ESS: 91.02 at: {'name': 'POELA', 'env': 'mimic45', 'thresh': 0.4, 'var_coeff': 0.0, 'seed': 1}\n",
      "best wis: 97.87  ESS: 77.87 at: {'name': 'POELA', 'env': 'mimic45', 'thresh': 0.4, 'var_coeff': 0.0, 'seed': 3}\n",
      "best wis: 98.5  ESS: 85.41 at: {'name': 'POELA', 'env': 'mimic45', 'thresh': 0.4, 'var_coeff': 0.1, 'seed': 3}\n",
      "best wis: 99.25  ESS: 88.19 at: {'name': 'POELA', 'env': 'mimic45', 'thresh': 0.4, 'var_coeff': 1.0, 'seed': 3}\n",
      "reliable wis: 93.6  ESS: 376.5 at: {'name': 'POELA', 'env': 'mimic45', 'thresh': 0.6, 'var_coeff': 0.0, 'seed': 1}\n",
      "best wis: 93.6  ESS: 376.5 at: {'name': 'POELA', 'env': 'mimic45', 'thresh': 0.6, 'var_coeff': 0.0, 'seed': 1}\n",
      "reliable wis: 93.87  ESS: 374.5 at: {'name': 'POELA', 'env': 'mimic45', 'thresh': 0.6, 'var_coeff': 0.0, 'seed': 4}\n",
      "best wis: 93.87  ESS: 374.5 at: {'name': 'POELA', 'env': 'mimic45', 'thresh': 0.6, 'var_coeff': 0.0, 'seed': 4}\n",
      "reliable wis: 94.01  ESS: 407.28 at: {'name': 'POELA', 'env': 'mimic45', 'thresh': 0.6, 'var_coeff': 0.1, 'seed': 2}\n",
      "best wis: 94.01  ESS: 407.28 at: {'name': 'POELA', 'env': 'mimic45', 'thresh': 0.6, 'var_coeff': 0.1, 'seed': 2}\n",
      "reliable wis: 91.9  ESS: 521.49 at: {'name': 'POELA', 'env': 'mimic45', 'thresh': 0.8, 'var_coeff': 0.0, 'seed': 1}\n",
      "best wis: 91.9  ESS: 521.49 at: {'name': 'POELA', 'env': 'mimic45', 'thresh': 0.8, 'var_coeff': 0.0, 'seed': 1}\n",
      "reliable wis: 92.48  ESS: 456.04 at: {'name': 'POELA', 'env': 'mimic45', 'thresh': 0.8, 'var_coeff': 0.0, 'seed': 2}\n",
      "best wis: 92.48  ESS: 456.04 at: {'name': 'POELA', 'env': 'mimic45', 'thresh': 0.8, 'var_coeff': 0.0, 'seed': 2}\n",
      "reliable wis: 93.0  ESS: 560.36 at: {'name': 'POELA', 'env': 'mimic45', 'thresh': 0.8, 'var_coeff': 0.1, 'seed': 2}\n",
      "best wis: 93.0  ESS: 560.36 at: {'name': 'POELA', 'env': 'mimic45', 'thresh': 0.8, 'var_coeff': 0.1, 'seed': 2}\n",
      "reliable wis: 93.06  ESS: 558.67 at: {'name': 'POELA', 'env': 'mimic45', 'thresh': 0.8, 'var_coeff': 1.0, 'seed': 2}\n",
      "best wis: 93.06  ESS: 558.67 at: {'name': 'POELA', 'env': 'mimic45', 'thresh': 0.8, 'var_coeff': 1.0, 'seed': 2}\n",
      "reliable wis: 89.37  ESS: 365.75 at: {'name': 'POELA', 'env': 'mimic45', 'thresh': 1.0, 'var_coeff': 0.0, 'seed': 1}\n",
      "best wis: 89.37  ESS: 365.75 at: {'name': 'POELA', 'env': 'mimic45', 'thresh': 1.0, 'var_coeff': 0.0, 'seed': 1}\n",
      "reliable wis: 91.82  ESS: 432.74 at: {'name': 'POELA', 'env': 'mimic45', 'thresh': 1.0, 'var_coeff': 0.0, 'seed': 2}\n",
      "best wis: 91.82  ESS: 432.74 at: {'name': 'POELA', 'env': 'mimic45', 'thresh': 1.0, 'var_coeff': 0.0, 'seed': 2}\n",
      "reliable wis: 92.66  ESS: 568.62 at: {'name': 'POELA', 'env': 'mimic45', 'thresh': 1.0, 'var_coeff': 0.0, 'seed': 3}\n",
      "best wis: 92.66  ESS: 568.62 at: {'name': 'POELA', 'env': 'mimic45', 'thresh': 1.0, 'var_coeff': 0.0, 'seed': 3}\n",
      "reliable wis: 92.81  ESS: 545.87 at: {'name': 'POELA', 'env': 'mimic45', 'thresh': 1.0, 'var_coeff': 0.1, 'seed': 3}\n",
      "best wis: 92.81  ESS: 545.87 at: {'name': 'POELA', 'env': 'mimic45', 'thresh': 1.0, 'var_coeff': 0.1, 'seed': 3}\n"
     ]
    }
   ],
   "source": [
    "# Our method\n",
    "var_coeff_list = [0.0, 0.1, 1.0, 10.0]\n",
    "threshold_list = [0.4, 0.6, 0.8, 1.0]\n",
    "\n",
    "ablation_models = []\n",
    "for threshold in threshold_list:\n",
    "    best_wis = -100\n",
    "    best_reliable_wis = -100\n",
    "    ours_rel_param = None\n",
    "    ours_param = None\n",
    "    for var_coeff in var_coeff_list:\n",
    "        for seed in seeds:\n",
    "            param = {\"name\": \"POELA\", \"env\": \"mimic45\", \"thresh\": threshold, \"var_coeff\": var_coeff, \"seed\": seed}\n",
    "            model, score, _ = get_model_from_param(param)\n",
    "        \n",
    "            wis_pie = score[0]\n",
    "            ESS = score[-1]\n",
    "        \n",
    "            if ESS >= ESS_lb and wis_pie > best_reliable_wis:\n",
    "                best_reliable_wis = wis_pie\n",
    "                ours_rel_param = param\n",
    "                print(\"reliable wis:\", round(wis_pie, 2), \" ESS:\", round(ESS, 2), \"at:\", param)\n",
    "                \n",
    "            model, score, _ = get_model_from_param(param, False)\n",
    "            wis_pie = score[0]\n",
    "            ESS = score[-1]\n",
    "            if wis_pie > best_wis:\n",
    "                best_wis = wis_pie\n",
    "                ours_param = param\n",
    "                print(\"best wis:\", round(wis_pie, 2), \" ESS:\", round(ESS, 2), \"at:\", param)\n",
    "    if ours_rel_param:\n",
    "        ablation_models.append(ours_rel_param)\n",
    "    else:\n",
    "        ablation_models.append(ours_param)"
   ]
  },
  {
   "cell_type": "code",
   "execution_count": 30,
   "metadata": {},
   "outputs": [
    {
     "name": "stdout",
     "output_type": "stream",
     "text": [
      "WIS: 86.62125725983307\n",
      "ESS: 1278.0850529000188\n",
      "WIS: 90.07865228412467\n",
      "ESS: 819.646050816067\n",
      "WIS: 90.87345341488546\n",
      "ESS: 706.1999061273318\n",
      "WIS: 91.23976246994216\n",
      "ESS: 642.5375063111641\n"
     ]
    }
   ],
   "source": [
    "CIs = []\n",
    "ESSs = []\n",
    "wis_tests = []\n",
    "\n",
    "# for param in [ours_rel_param, ours_novar_rel_param, knn_rel_param, knn_novar_rel_param, \n",
    "#               npoem_rel_param, npoem_novar_param, nomask_rel_param, nomask_novar_param, \n",
    "#               bcq_rel_param, pql_rel_param]:\n",
    "for param in ablation_models:\n",
    "    model, _, _ = get_model_from_param(param)\n",
    "    pibs, pies, rewards, length = compute_is_weights(test_dataset, model)\n",
    "    length = length.astype(int)\n",
    "    wis_pie, weights = wis_ope(pibs, pies, rewards, length)\n",
    "\n",
    "    v_pib = rewards.sum(axis=-1).mean(axis=0)\n",
    "    ESS = 1/(np.sum(weights**2,axis=0))\n",
    "    #lb_ub, wis_list = bca_bootstrap(pibs, pies, rewards, length, alpha=0.05)\n",
    "\n",
    "    wis_tests.append(wis_pie)\n",
    "    ESSs.append(ESS)\n",
    "    #CIs.append(lb_ub)\n",
    "    print(\"WIS:\", wis_pie)\n",
    "    print(\"ESS:\", ESS)\n",
    "    #print(lb_ub)"
   ]
  },
  {
   "cell_type": "code",
   "execution_count": 41,
   "metadata": {},
   "outputs": [
    {
     "data": {
      "text/plain": [
       "[1278.0850529000188, 819.646050816067, 706.1999061273318, 642.5375063111641]"
      ]
     },
     "execution_count": 41,
     "metadata": {},
     "output_type": "execute_result"
    }
   ],
   "source": [
    "ESSs"
   ]
  },
  {
   "cell_type": "code",
   "execution_count": 42,
   "metadata": {},
   "outputs": [
    {
     "data": {
      "text/plain": [
       "[86.62125725983307, 90.07865228412467, 90.87345341488546, 91.23976246994216]"
      ]
     },
     "execution_count": 42,
     "metadata": {},
     "output_type": "execute_result"
    }
   ],
   "source": [
    "wis_tests"
   ]
  },
  {
   "cell_type": "code",
   "execution_count": null,
   "metadata": {},
   "outputs": [],
   "source": [
    "86.62125725983307, 90.07865228412467, 91.46345341488546, 91.23976246994216"
   ]
  },
  {
   "cell_type": "code",
   "execution_count": 46,
   "metadata": {},
   "outputs": [
    {
     "name": "stdout",
     "output_type": "stream",
     "text": [
      "WIS: 91.61999140054891\n",
      "ESS: 3601.118917637893\n",
      "WIS: 98.41025151771905\n",
      "ESS: 2242.0739140638734\n",
      "WIS: 98.89883450479996\n",
      "ESS: 1993.081707432032\n",
      "WIS: 99.11940231493642\n",
      "ESS: 1769.4637894867988\n"
     ]
    }
   ],
   "source": [
    "CIs = []\n",
    "ESSs = []\n",
    "wis_tests = []\n",
    "\n",
    "# for param in [ours_rel_param, ours_novar_rel_param, knn_rel_param, knn_novar_rel_param, \n",
    "#               npoem_rel_param, npoem_novar_param, nomask_rel_param, nomask_novar_param, \n",
    "#               bcq_rel_param, pql_rel_param]:\n",
    "for param in ablation_models:\n",
    "    model, _, _ = get_model_from_param(param)\n",
    "    pibs, pies, rewards, length = compute_is_weights(train_dataset, model)\n",
    "    length = length.astype(int)\n",
    "    wis_pie, weights = wis_ope(pibs, pies, rewards, length)\n",
    "\n",
    "    v_pib = rewards.sum(axis=-1).mean(axis=0)\n",
    "    ESS = 1/(np.sum(weights**2,axis=0))\n",
    "    #lb_ub, wis_list = bca_bootstrap(pibs, pies, rewards, length, alpha=0.05)\n",
    "\n",
    "    wis_tests.append(wis_pie)\n",
    "    ESSs.append(ESS)\n",
    "    #CIs.append(lb_ub)\n",
    "    print(\"WIS:\", wis_pie)\n",
    "    print(\"ESS:\", ESS)\n",
    "    #print(lb_ub)"
   ]
  },
  {
   "cell_type": "code",
   "execution_count": 49,
   "metadata": {},
   "outputs": [
    {
     "name": "stdout",
     "output_type": "stream",
     "text": [
      "[91.62, 98.41, 98.9, 99.12]\n"
     ]
    }
   ],
   "source": [
    "print([round(x, 2) for x in wis_tests])"
   ]
  },
  {
   "cell_type": "code",
   "execution_count": 50,
   "metadata": {},
   "outputs": [
    {
     "name": "stdout",
     "output_type": "stream",
     "text": [
      "[3601.12, 2242.07, 1993.08, 1769.46]\n"
     ]
    }
   ],
   "source": [
    "print([round(x, 2) for x in ESSs])"
   ]
  },
  {
   "cell_type": "markdown",
   "metadata": {},
   "source": [
    "### Generate Plots"
   ]
  },
  {
   "cell_type": "code",
   "execution_count": 52,
   "metadata": {},
   "outputs": [],
   "source": [
    "def toprint(name):\n",
    "    if name == \"POELA-kNN\":\n",
    "        return \"PO-mu\"\n",
    "    elif name == \"POELA-kNN-IS\":\n",
    "        return \"PO-mu-NVar\"\n",
    "    if name == \"norm-POEM\":\n",
    "        return \"PO-CRM\"\n",
    "    elif name == \"norm-POEM-IS\":\n",
    "        return \"PO-CRM-NVar\"\n",
    "    else:\n",
    "        return name"
   ]
  },
  {
   "cell_type": "code",
   "execution_count": 57,
   "metadata": {},
   "outputs": [],
   "source": [
    "BIGGER_SIZE = 20\n",
    "plt.rc('font', size=BIGGER_SIZE)  \n",
    "plt.rc('axes', titlesize=BIGGER_SIZE)  \n",
    "plt.rc('axes', labelsize=BIGGER_SIZE)  \n",
    "plt.rc('xtick', labelsize=BIGGER_SIZE)  \n",
    "plt.rc('ytick', labelsize=BIGGER_SIZE)  \n",
    "plt.rc('legend', fontsize=BIGGER_SIZE)  \n",
    "plt.rc('figure', titlesize=BIGGER_SIZE)  "
   ]
  },
  {
   "cell_type": "code",
   "execution_count": null,
   "metadata": {},
   "outputs": [],
   "source": [
    "plt.hlines(v_pib, 0, 5, color=\"grey\",label=\"Behavior Policy\")\n",
    "plt.hlines(ci_pib[0], 0, 5, linestyle='--', color=\"grey\")\n",
    "plt.hlines(ci_pib[1], 0, 5, linestyle='--', color=\"grey\")\n",
    "# plt.fill_between([0, len(results)-1], ci_pib[1], ci_pib[0],\n",
    "#                  color='C0', alpha=0.2, rasterized=True)\n",
    "plt.legend([\"Behavior Policy\"])\n",
    "\n",
    "errors = np.abs(CIs.transpose() - wis_tests)\n",
    "for i, alg_idx in enumerate([0,1,2,3,4,5]):\n",
    "    plt.errorbar(i, wis_tests[alg_idx], yerr=errors[:,alg_idx:alg_idx+1], fmt = 'o', capsize=4, color = 'k') \n",
    "\n",
    "\n",
    "plt.xticks(range(6),[\"POELA\", \"no CRM\", \"PO-mu\", \"PO-CRM\", \"PQL\", \"BCQ\"],rotation=20)\n",
    "#plt.xticks(range(len(ESSs)),[str(round(float(e), 1)) for e in ESSs])\n",
    "#plt.xlabel(\"Effective Sample Size\")\n",
    "\n",
    "#plt.ylim([80,100])\n",
    "plt.ylabel(\"95% BCa CI\")\n",
    "#plt.xlabel(\"Different algorithms\")\n",
    "#plt.title(\"Confidence Interval of WIS Estimates on Test Set\")\n",
    "#plt.savefig(\"plots/mimic_ci.png\", bbox_inches='tight')\n",
    "plt.show()"
   ]
  },
  {
   "cell_type": "markdown",
   "metadata": {},
   "source": [
    "### Trade-offs in hyperparameter and random seeds"
   ]
  },
  {
   "cell_type": "code",
   "execution_count": 59,
   "metadata": {
    "scrolled": false
   },
   "outputs": [
    {
     "data": {
      "image/png": "[encoded data removed]",
      "text/plain": [
       "<Figure size 432x288 with 1 Axes>"
      ]
     },
     "metadata": {},
     "output_type": "display_data"
    }
   ],
   "source": [
    "idx=0\n",
    "seeds = [1,2,3,4,5]\n",
    "ess = []\n",
    "wis = []\n",
    "for seed in seeds:\n",
    "    for var_coeff in [0.0, 0.1, 1.0, 10.0]:\n",
    "        for threshold in [0.4, 0.6, 0.8, 1.0]:\n",
    "            param = {\"name\": \"POELA\", \"env\": \"mimic45\", \"thresh\": threshold, \"var_coeff\": var_coeff, \"seed\": seed}\n",
    "            model, val_score, train_score = get_model_from_param(param)\n",
    "            wis.append(val_score[0])\n",
    "            ess.append(val_score[-1])\n",
    "plt.scatter(ess,wis,marker='o',color='C0',label=\"POELA\")\n",
    "ess = []\n",
    "wis = []\n",
    "for seed in seeds:\n",
    "    for var_coeff in [0.0, 0.1, 1.0, 10.0]:\n",
    "        for threshold in [0.01, 0.02, 0.05, 0.1]:\n",
    "            param = {\"name\": \"POELA-kNN\", \"env\": \"mimic45\", \"thresh\": threshold, \"var_coeff\": var_coeff, \"seed\": seed}\n",
    "            model, val_score, train_score = get_model_from_param(param)\n",
    "            wis.append(val_score[0])\n",
    "            ess.append(val_score[-1])\n",
    "plt.scatter(ess,wis,marker='x',color='C2',label=\"PO-mu\")\n",
    "ess = []\n",
    "wis = []\n",
    "for seed in seeds:\n",
    "    for var_coeff in [0.0, 0.1, 1.0, 10.0]:\n",
    "        param = {\"name\": \"norm-POEM\", \"env\": \"mimic45\", \"thresh\": 0.01, \"var_coeff\": var_coeff, \"seed\": seed}\n",
    "        model, val_score, train_score = get_model_from_param(param)\n",
    "        wis.append(val_score[0])\n",
    "        ess.append(val_score[-1])\n",
    "plt.scatter(ess,wis,marker='s',color='C1',label=\"PO-CRM\") \n",
    "ess = []\n",
    "wis = []\n",
    "for seed in seeds:\n",
    "    for threshold in [0.0, 0.01, 0.05, 0.1, 0.3]:\n",
    "        param = {\"name\": \"PQL\", \"env\": \"mimic45\", \"thresh\": threshold, \"seed\": seed}\n",
    "        model, val_score, train_score = get_model_from_param(param)\n",
    "        wis.append(val_score[0])\n",
    "        ess.append(val_score[-1])\n",
    "plt.scatter(ess,wis,marker='v',color='C4',label=\"PQL\") \n",
    "ess = []\n",
    "wis = []\n",
    "for seed in seeds:\n",
    "    for threshold in [0.0, 0.01, 0.05, 0.1, 0.3]:\n",
    "        param = {\"name\": \"BCQ\", \"env\": \"mimic45\", \"thresh\": threshold, \"seed\": seed}\n",
    "        model, val_score, train_score = get_model_from_param(param)\n",
    "        wis.append(val_score[0])\n",
    "        ess.append(val_score[-1])\n",
    "plt.scatter(ess,wis,marker='^',color='C3',label=\"BCQ\")   \n",
    "    \n",
    "# plt.hlines(v_pib, 0, 3000, color=\"grey\", label=\"Behavior Policy\")\n",
    "# plt.hlines(ci_pib[0], 0, len(results)-1, linestyle='--', color=\"grey\")\n",
    "# plt.hlines(ci_pib[1], 0, len(results)-1, linestyle='--', color=\"grey\")\n",
    "# plt.xscale(\"log\")\n",
    "# plt.ylim([75, 101])\n",
    "plt.xlabel(\"Effective Sample Size on validation set\")\n",
    "plt.ylabel(\"WIS on validation set\")\n",
    "plt.grid(True)\n",
    "#plt.title(\"WIS-ESS trade-off for different algorithms\")\n",
    "plt.legend(bbox_to_anchor=[1.2, -0.4], loc='right', ncol=3)\n",
    "plt.savefig(\"new_plots/mimic_ess_tradeoff.png\", bbox_inches='tight', pad_inches=0.1)\n",
    "plt.show()"
   ]
  },
  {
   "cell_type": "markdown",
   "metadata": {},
   "source": [
    "## MIMIC Visualization"
   ]
  },
  {
   "cell_type": "markdown",
   "metadata": {},
   "source": [
    "### Visualize heatmap"
   ]
  },
  {
   "cell_type": "code",
   "execution_count": null,
   "metadata": {},
   "outputs": [],
   "source": [
    "import seaborn as sns"
   ]
  },
  {
   "cell_type": "code",
   "execution_count": null,
   "metadata": {},
   "outputs": [],
   "source": [
    "def count_actions(dataset, model, mask=None):\n",
    "    n = dataset[\"observations\"].shape[0]\n",
    "    horizon = dataset[\"observations\"].shape[1]\n",
    "    na = dataset[\"pibs\"].shape[-1]\n",
    "    \n",
    "    action_counts = np.zeros(na)\n",
    "    \n",
    "    for idx in range(n):\n",
    "        for t in range(horizon):\n",
    "            if (mask is None) or (mask[idx, t] == True):\n",
    "                if model is None:\n",
    "                    a = dataset[\"actions\"][idx,t,0]\n",
    "                    action_counts[a] += 1\n",
    "                else:\n",
    "                    pie = model.get_prob(dataset[\"observations\"][idx,t,:], dataset[\"estm_pibs\"][idx,t,:], \n",
    "                                         dataset[\"nn_action_dist\"][idx,t,:])\n",
    "                    action_counts += pie\n",
    "            \n",
    "            if not dataset[\"not_done\"][idx, t]:\n",
    "                break\n",
    "    return action_counts"
   ]
  },
  {
   "cell_type": "code",
   "execution_count": null,
   "metadata": {},
   "outputs": [],
   "source": [
    "sns.palplot(sns.color_palette(\"Greens\",12))"
   ]
  },
  {
   "cell_type": "code",
   "execution_count": null,
   "metadata": {},
   "outputs": [],
   "source": [
    "sns.set(font_scale=1.5)"
   ]
  },
  {
   "cell_type": "code",
   "execution_count": null,
   "metadata": {
    "scrolled": true
   },
   "outputs": [],
   "source": [
    "cmap = sns.color_palette(\"Purples\", n_colors=100) #“Purples” rocket_r\n",
    "action_counts = count_actions(test_dataset, None).reshape((5,5))\n",
    "ax = sns.heatmap(action_counts, cmap=cmap, xticklabels='auto', yticklabels='auto', vmin=0, vmax=12000)\n",
    "ax.invert_yaxis()\n",
    "ax.tick_params(left=False, bottom=False)\n",
    "plt.xlabel(\"Vasopressors\") \n",
    "plt.ylabel(\"IV fluid\") \n",
    "plt.title(\"Physician Policy\")\n",
    "plt.savefig(\"plots/physician_heatmap.png\", bbox_inches='tight')\n",
    "plt.show()\n",
    "\n",
    "\n",
    "for param in [ours_rel_param, ours_novar_rel_param, knn_rel_param, knn_novar_rel_param, \n",
    "              npoem_rel_param, npoem_novar_param, nomask_rel_param, nomask_novar_param, \n",
    "              bcq_rel_param, pql_rel_param]:\n",
    "    model, _, _ = get_model_from_param(param)\n",
    "    action_counts = count_actions(test_dataset, model).reshape((5,5))\n",
    "    #print(action_counts.round(2))\n",
    "    \n",
    "    ax = sns.heatmap(action_counts, cmap=cmap, xticklabels='auto', yticklabels='auto', vmin=0, vmax=12000)\n",
    "    ax.invert_yaxis()\n",
    "    ax.tick_params(left=False, bottom=False)\n",
    "    plt.xlabel(\"Vasopressors\") \n",
    "    plt.ylabel(\"IV fluid\") \n",
    "    plt.title(toprint(param['name']))\n",
    "    plt.savefig(f\"plots/{param['name']}_heatmap.png\", bbox_inches='tight')\n",
    "    plt.show()"
   ]
  },
  {
   "cell_type": "code",
   "execution_count": null,
   "metadata": {},
   "outputs": [],
   "source": []
  },
  {
   "cell_type": "code",
   "execution_count": 1,
   "metadata": {},
   "outputs": [
    {
     "ename": "NameError",
     "evalue": "name 'test_dataset' is not defined",
     "output_type": "error",
     "traceback": [
      "\u001b[0;31m---------------------------------------------------------------------------\u001b[0m",
      "\u001b[0;31mNameError\u001b[0m                                 Traceback (most recent call last)",
      "\u001b[0;32m<ipython-input-1-4950174db2b3>\u001b[0m in \u001b[0;36m<module>\u001b[0;34m()\u001b[0m\n\u001b[0;32m----> 1\u001b[0;31m \u001b[0mlow_sofa\u001b[0m \u001b[0;34m=\u001b[0m \u001b[0;34m(\u001b[0m\u001b[0mtest_dataset\u001b[0m\u001b[0;34m[\u001b[0m\u001b[0;34m'observations'\u001b[0m\u001b[0;34m]\u001b[0m\u001b[0;34m[\u001b[0m\u001b[0;34m:\u001b[0m\u001b[0;34m,\u001b[0m\u001b[0;34m:\u001b[0m\u001b[0;34m,\u001b[0m\u001b[0msofa_id\u001b[0m\u001b[0;34m]\u001b[0m\u001b[0;34m*\u001b[0m\u001b[0msofa_std\u001b[0m\u001b[0;34m+\u001b[0m\u001b[0msofa_mean\u001b[0m\u001b[0;34m)\u001b[0m \u001b[0;34m<\u001b[0m \u001b[0;36m5\u001b[0m\u001b[0;34m\u001b[0m\u001b[0;34m\u001b[0m\u001b[0m\n\u001b[0m",
      "\u001b[0;31mNameError\u001b[0m: name 'test_dataset' is not defined"
     ]
    }
   ],
   "source": [
    "sofa_id=34\n",
    "sofa_mean = 6.0695\n",
    "sofa_std = 3.3598\n",
    "\n",
    "low_sofa = (test_dataset['observations'][:,:,sofa_id]*sofa_std+sofa_mean) < 5"
   ]
  },
  {
   "cell_type": "code",
   "execution_count": null,
   "metadata": {},
   "outputs": [],
   "source": []
  },
  {
   "cell_type": "markdown",
   "metadata": {},
   "source": [
    "### For different SOFA value"
   ]
  },
  {
   "cell_type": "code",
   "execution_count": null,
   "metadata": {},
   "outputs": [],
   "source": [
    "sofa_id=34\n",
    "sofa_mean = 6.0695\n",
    "sofa_std = 3.3598"
   ]
  },
  {
   "cell_type": "code",
   "execution_count": null,
   "metadata": {},
   "outputs": [],
   "source": [
    "high_sofa = (test_dataset['observations'][:,:,sofa_id]*sofa_std+sofa_mean) >= 13"
   ]
  },
  {
   "cell_type": "code",
   "execution_count": null,
   "metadata": {},
   "outputs": [],
   "source": [
    "mid_sofa = ((test_dataset['observations'][:,:,sofa_id]*sofa_std)+sofa_mean < 15) & ((test_dataset['observations'][:,:,sofa_id]*sofa_std)+sofa_mean >= 5)"
   ]
  },
  {
   "cell_type": "code",
   "execution_count": null,
   "metadata": {},
   "outputs": [],
   "source": [
    "low_sofa = (test_dataset['observations'][:,:,sofa_id]*sofa_std+sofa_mean) < 5"
   ]
  },
  {
   "cell_type": "code",
   "execution_count": null,
   "metadata": {},
   "outputs": [],
   "source": []
  },
  {
   "cell_type": "code",
   "execution_count": null,
   "metadata": {
    "scrolled": true
   },
   "outputs": [],
   "source": [
    "action_counts = count_actions(test_dataset, None, high_sofa).reshape((5,5))\n",
    "cmap = sns.color_palette(\"rocket_r\",n_colors=100) #“Purples” rocket_r\n",
    "ax = sns.heatmap(action_counts, cmap=cmap, xticklabels='auto', yticklabels='auto', vmin=0, vmax=800)\n",
    "ax.invert_yaxis()\n",
    "ax.tick_params(left=False, bottom=False)\n",
    "plt.xlabel(\"Vasopressors\") \n",
    "plt.ylabel(\"IV fluid\") \n",
    "plt.title(\"Clinician Policy\")\n",
    "plt.savefig(\"plots/physician_highsofa_heatmap.png\", bbox_inches='tight')\n",
    "plt.show()\n",
    "\n",
    "for param in [ours_rel_param, ours_novar_rel_param, knn_rel_param, knn_novar_rel_param, \n",
    "              npoem_rel_param, npoem_novar_param, nomask_rel_param, nomask_novar_param, \n",
    "              bcq_rel_param, pql_rel_param]:\n",
    "    model, _, _ = get_model_from_param(param)\n",
    "    action_counts = count_actions(test_dataset, model, high_sofa).reshape((5,5))\n",
    "    #print(action_counts.round(2))\n",
    "    \n",
    "    ax = sns.heatmap(action_counts, cmap=cmap, xticklabels='auto', yticklabels='auto', vmin=0, vmax=800)\n",
    "    ax.invert_yaxis()\n",
    "    ax.tick_params(left=False, bottom=False)\n",
    "    plt.xlabel(\"Vasopressors\") \n",
    "    plt.ylabel(\"IV fluid\") \n",
    "    plt.title(toprint(param['name']))\n",
    "    plt.savefig(f\"plots/{param['name']}_highsofa_heatmap.png\", bbox_inches='tight')\n",
    "    plt.show()"
   ]
  },
  {
   "cell_type": "code",
   "execution_count": null,
   "metadata": {
    "scrolled": true
   },
   "outputs": [],
   "source": [
    "action_counts = count_actions(test_dataset, None, mid_sofa).reshape((5,5))\n",
    "ax = sns.heatmap(action_counts, cmap=\"Blues\", xticklabels='auto', yticklabels='auto')\n",
    "ax.invert_yaxis()\n",
    "ax.tick_params(left=False, bottom=False)\n",
    "plt.xlabel(\"Vasopressors\") \n",
    "plt.ylabel(\"IV fluid\") \n",
    "plt.title(\"Physician Policy\")\n",
    "plt.savefig(\"plots/physician_midsofa_heatmap.png\", bbox_inches='tight')\n",
    "plt.show()\n",
    "\n",
    "for param in [ours_rel_param, ours_novar_rel_param, knn_rel_param, knn_novar_rel_param, \n",
    "              npoem_rel_param, npoem_novar_param, nomask_rel_param, nomask_novar_param, \n",
    "              bcq_rel_param, pql_rel_param]:\n",
    "    model, _, _ = get_model_from_param(param)\n",
    "    action_counts = count_actions(test_dataset, model, mid_sofa).reshape((5,5))\n",
    "    #print(action_counts.round(2))\n",
    "    \n",
    "    ax = sns.heatmap(action_counts, cmap=\"Blues\", xticklabels='auto', yticklabels='auto')\n",
    "    ax.invert_yaxis()\n",
    "    ax.tick_params(left=False, bottom=False)\n",
    "    plt.xlabel(\"Vasopressors\") \n",
    "    plt.ylabel(\"IV fluid\") \n",
    "    plt.title(toprint(param['name']))\n",
    "    plt.savefig(f\"plots/{param['name']}_midsofa_heatmap.png\", bbox_inches='tight')\n",
    "    plt.show()"
   ]
  },
  {
   "cell_type": "code",
   "execution_count": null,
   "metadata": {
    "scrolled": true
   },
   "outputs": [],
   "source": [
    "action_counts = count_actions(test_dataset, None, low_sofa).reshape((5,5))\n",
    "ax = sns.heatmap(action_counts, cmap=\"Greens\", xticklabels='auto', yticklabels='auto')\n",
    "ax.invert_yaxis()\n",
    "ax.tick_params(left=False, bottom=False)\n",
    "plt.xlabel(\"Vasopressors\") \n",
    "plt.ylabel(\"IV fluid\") \n",
    "plt.title(\"Physician Policy\")\n",
    "plt.savefig(\"plots/physician_lowsofa_heatmap.png\", bbox_inches='tight')\n",
    "plt.show()\n",
    "\n",
    "for param in [ours_rel_param, ours_novar_rel_param, knn_rel_param, knn_novar_rel_param, \n",
    "              npoem_rel_param, npoem_novar_param, nomask_rel_param, nomask_novar_param, \n",
    "              bcq_rel_param, pql_rel_param]:\n",
    "    model, _, _ = get_model_from_param(param)\n",
    "    action_counts = count_actions(test_dataset, model, low_sofa).reshape((5,5))\n",
    "    #print(action_counts.round(2))\n",
    "    \n",
    "    ax = sns.heatmap(action_counts, cmap=\"Greens\", xticklabels='auto', yticklabels='auto')\n",
    "    ax.invert_yaxis()\n",
    "    ax.tick_params(left=False, bottom=False)\n",
    "    plt.xlabel(\"Vasopressors\") \n",
    "    plt.ylabel(\"IV fluid\") \n",
    "    plt.title(toprint(param['name']))\n",
    "    plt.savefig(f\"plots/{param['name']}_lowsofa_heatmap.png\", bbox_inches='tight')\n",
    "    plt.show()"
   ]
  }
 ],
 "metadata": {
  "kernelspec": {
   "display_name": "Python 3",
   "language": "python",
   "name": "python3"
  },
  "language_info": {
   "codemirror_mode": {
    "name": "ipython",
    "version": 3
   },
   "file_extension": ".py",
   "mimetype": "text/x-python",
   "name": "python",
   "nbconvert_exporter": "python",
   "pygments_lexer": "ipython3",
   "version": "3.6.10"
  }
 },
 "nbformat": 4,
 "nbformat_minor": 1
}
