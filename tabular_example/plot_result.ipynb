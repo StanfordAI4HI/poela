{
 "cells": [
  {
   "cell_type": "code",
   "execution_count": null,
   "metadata": {},
   "outputs": [],
   "source": [
    "import numpy as np\n",
    "import pandas as pd\n",
    "from tqdm.notebook import tqdm\n",
    "import pickle\n",
    "import matplotlib.pyplot as plt"
   ]
  },
  {
   "cell_type": "code",
   "execution_count": null,
   "metadata": {},
   "outputs": [],
   "source": [
    "BIGGER_SIZE = 18\n",
    "plt.rc('font', size=BIGGER_SIZE)  \n",
    "plt.rc('axes', titlesize=BIGGER_SIZE)  \n",
    "plt.rc('axes', labelsize=BIGGER_SIZE)  \n",
    "plt.rc('xtick', labelsize=BIGGER_SIZE)  \n",
    "plt.rc('ytick', labelsize=BIGGER_SIZE)  \n",
    "plt.rc('legend', fontsize=BIGGER_SIZE)  \n",
    "plt.rc('figure', titlesize=BIGGER_SIZE)"
   ]
  },
  {
   "cell_type": "code",
   "execution_count": null,
   "metadata": {},
   "outputs": [],
   "source": [
    "horizon = [2,3,4,5,6,7,8]\n",
    "nsample_crm = [32, 128, 256, 512, 1024, 2048, 4096]\n",
    "nsample_ea = [16, 16, 16, 16, 16, 16, 16]"
   ]
  },
  {
   "cell_type": "code",
   "execution_count": null,
   "metadata": {},
   "outputs": [],
   "source": [
    "plt.plot(horizon, nsample_crm, marker='s', linestyle=\"-\", label=\"IS + CRM\")\n",
    "plt.plot(horizon, nsample_crm, marker='x', linestyle=\"--\", label=\"SNIS + CRM\")\n",
    "plt.plot(horizon, nsample_ea, marker='o', linestyle=\"-\", label=\"SNIS + EA\")\n",
    "#plt.title(\"Number of Samples to Solve the Example\")\n",
    "plt.legend()\n",
    "plt.ylabel(\"Number of Samples\")\n",
    "plt.xlabel(\"H\")\n",
    "plt.savefig(\"../plots/toy_example_result.png\", bbox_inches='tight')\n",
    "plt.show()"
   ]
  }
 ],
 "metadata": {
  "kernelspec": {
   "display_name": "Python 3",
   "language": "python",
   "name": "python3"
  },
  "language_info": {
   "codemirror_mode": {
    "name": "ipython",
    "version": 3.0
   },
   "file_extension": ".py",
   "mimetype": "text/x-python",
   "name": "python",
   "nbconvert_exporter": "python",
   "pygments_lexer": "ipython3",
   "version": "3.6.10"
  }
 },
 "nbformat": 4,
 "nbformat_minor": 0
}